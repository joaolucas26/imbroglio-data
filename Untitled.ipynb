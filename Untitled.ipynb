{
 "cells": [
  {
   "cell_type": "code",
   "execution_count": null,
   "id": "90b9aff1",
   "metadata": {},
   "outputs": [],
   "source": [
    "import pandas as pd\n",
    "import json"
   ]
  },
  {
   "cell_type": "code",
   "execution_count": null,
   "id": "78f9e777",
   "metadata": {},
   "outputs": [],
   "source": []
  },
  {
   "cell_type": "code",
   "execution_count": null,
   "id": "0c4c9094",
   "metadata": {},
   "outputs": [],
   "source": [
    "#lendo o JSON \n",
    "f = open('Puzzles/daily_puzzles_6.json') \n",
    "daily_puzzle = json.load(f)\n",
    "f.close()"
   ]
  },
  {
   "cell_type": "code",
   "execution_count": null,
   "id": "93207678",
   "metadata": {},
   "outputs": [],
   "source": [
    "daily_letters= daily_puzzle[0]['letters']\n",
    "daily_letters"
   ]
  },
  {
   "cell_type": "code",
   "execution_count": null,
   "id": "4d7f4f08",
   "metadata": {},
   "outputs": [],
   "source": [
    "letras = ['a', 'b', 'c', 'd', 'e', 'f', 'g', 'h', 'i', 'j','k', 'l', 'm', 'n', 'o', 'p', 'q', 'r', 's', 't', 'u', 'v', 'w', 'x', 'y', 'z']"
   ]
  },
  {
   "cell_type": "code",
   "execution_count": null,
   "id": "62e28d35",
   "metadata": {},
   "outputs": [],
   "source": [
    "#lendo o JSON LISTA DE PALAVRAS \n",
    "f = open('Words/words.json') \n",
    "words_file = json.load(f)\n",
    "f.close()"
   ]
  },
  {
   "cell_type": "code",
   "execution_count": null,
   "id": "8eaa8f9e",
   "metadata": {},
   "outputs": [],
   "source": [
    "# pegando lista de palavras normalizadas\n",
    "word_list = [] \n",
    "normalized_word_list = []\n",
    "\n",
    "for i in range(len(words_file)):\n",
    "    normalized_word_list.append(words_file[i]['normalized'])\n",
    "    word_list.append(words_file[i]['word'])"
   ]
  },
  {
   "cell_type": "code",
   "execution_count": null,
   "id": "b35dbfe7",
   "metadata": {},
   "outputs": [],
   "source": [
    "df = pd.DataFrame(index = [normalized_word_list, word_list]).reset_index().rename(columns ={'level_0': 'norm_word', 'level_1': 'word' })"
   ]
  },
  {
   "cell_type": "code",
   "execution_count": null,
   "id": "c6a03355",
   "metadata": {},
   "outputs": [],
   "source": [
    "df"
   ]
  },
  {
   "cell_type": "code",
   "execution_count": null,
   "id": "7df784f8",
   "metadata": {},
   "outputs": [],
   "source": [
    "def is_on_daily_puzzle(norm_word, daily):   \n",
    "    \n",
    "    daily_letter = daily.copy()    \n",
    "    is_in_daily_letters = True\n",
    "    \n",
    "    for letter in norm_word:        \n",
    "        if letter not in daily_letter:\n",
    "            is_in_daily_letters = False\n",
    "            break  \n",
    "        \n",
    "        \n",
    "        else:\n",
    "            daily_letter.remove(letter)\n",
    "            \n",
    "    return is_in_daily_letters   "
   ]
  },
  {
   "cell_type": "code",
   "execution_count": null,
   "id": "ebb0a906",
   "metadata": {
    "scrolled": true
   },
   "outputs": [],
   "source": [
    "df['is_on_daily_puzzle'] = df.norm_word.apply(lambda x: is_on_daily_puzzle(x, daily_letters))"
   ]
  },
  {
   "cell_type": "code",
   "execution_count": null,
   "id": "eeae5db4",
   "metadata": {},
   "outputs": [],
   "source": [
    "df[df.is_on_daily_puzzle == True]"
   ]
  },
  {
   "cell_type": "code",
   "execution_count": null,
   "id": "fb8d7ce3",
   "metadata": {},
   "outputs": [],
   "source": [
    "df['len'] = df.norm_word.apply(lambda x: len(x))"
   ]
  },
  {
   "cell_type": "code",
   "execution_count": null,
   "id": "a4d25213",
   "metadata": {
    "scrolled": false
   },
   "outputs": [],
   "source": [
    "df"
   ]
  },
  {
   "cell_type": "markdown",
   "id": "624642d4",
   "metadata": {},
   "source": [
    "------------"
   ]
  },
  {
   "cell_type": "code",
   "execution_count": null,
   "id": "e9affd1c",
   "metadata": {},
   "outputs": [],
   "source": [
    "df2 = df[df.is_on_daily_puzzle == True].sort_values(by='len', ascending=False)"
   ]
  },
  {
   "cell_type": "code",
   "execution_count": null,
   "id": "17fab013",
   "metadata": {},
   "outputs": [],
   "source": [
    "possible_word_list = df2.norm_word.to_list()\n",
    "possible_word_list"
   ]
  },
  {
   "cell_type": "code",
   "execution_count": null,
   "id": "f92d2934",
   "metadata": {},
   "outputs": [],
   "source": [
    "daily_letters = daily_puzzle[0]['letters']"
   ]
  },
  {
   "cell_type": "code",
   "execution_count": null,
   "id": "ab7efc90",
   "metadata": {},
   "outputs": [],
   "source": [
    "print(df2.iloc[92]['norm_word'])\n",
    "l = ([letter for letter in df2.iloc[92]['norm_word']])\n",
    "print([letter for letter in df2.iloc[92]['norm_word']])\n",
    "print([x for x in l if x in daily_letters])"
   ]
  },
  {
   "cell_type": "code",
   "execution_count": null,
   "id": "7ffe65e7",
   "metadata": {},
   "outputs": [],
   "source": []
  },
  {
   "cell_type": "code",
   "execution_count": null,
   "id": "5ac20ff1",
   "metadata": {},
   "outputs": [],
   "source": [
    "daily_letters"
   ]
  },
  {
   "cell_type": "code",
   "execution_count": null,
   "id": "b8cad99a",
   "metadata": {},
   "outputs": [],
   "source": []
  },
  {
   "cell_type": "code",
   "execution_count": null,
   "id": "c20df538",
   "metadata": {},
   "outputs": [],
   "source": []
  },
  {
   "cell_type": "code",
   "execution_count": null,
   "id": "3a93c5fc",
   "metadata": {},
   "outputs": [],
   "source": []
  },
  {
   "cell_type": "code",
   "execution_count": null,
   "id": "86383ce3",
   "metadata": {
    "scrolled": false
   },
   "outputs": [],
   "source": [
    "df2"
   ]
  },
  {
   "cell_type": "code",
   "execution_count": null,
   "id": "76b95017",
   "metadata": {},
   "outputs": [],
   "source": [
    "def remaining_letters(norm_word, daily):    \n",
    "\n",
    "    daily_letter = daily.copy()\n",
    "    \n",
    "    is_in_daily_letters = True\n",
    "    for letter in norm_word:        \n",
    "        if letter not in daily_letter:\n",
    "            is_in_daily_letters = False\n",
    "            break  \n",
    "        \n",
    "        \n",
    "        else:\n",
    "            daily_letter.remove(letter)\n",
    "     \n",
    "    return daily_letter   "
   ]
  },
  {
   "cell_type": "code",
   "execution_count": null,
   "id": "92875d04",
   "metadata": {},
   "outputs": [],
   "source": [
    "df2['remaining_letters'] = df2.norm_word.apply(lambda x: remaining_letters(x, daily_letters))"
   ]
  },
  {
   "cell_type": "code",
   "execution_count": null,
   "id": "8440d459",
   "metadata": {},
   "outputs": [],
   "source": [
    "df2['remaining_letters_2'] = df2.norm_word.apply(lambda x: remaining_letters(x, daily_letters))"
   ]
  },
  {
   "cell_type": "code",
   "execution_count": null,
   "id": "e438602d",
   "metadata": {},
   "outputs": [],
   "source": [
    "df2.reset_index(inplace=True)"
   ]
  },
  {
   "cell_type": "code",
   "execution_count": null,
   "id": "1dc8f21b",
   "metadata": {},
   "outputs": [],
   "source": [
    "df2.head(2)"
   ]
  },
  {
   "cell_type": "code",
   "execution_count": null,
   "id": "f6919b61",
   "metadata": {},
   "outputs": [],
   "source": []
  },
  {
   "cell_type": "code",
   "execution_count": null,
   "id": "e75e32f7",
   "metadata": {},
   "outputs": [],
   "source": [
    "def remaining_letters_recursive(norm_word, daily):\n",
    "    \n",
    "    daily_letter = daily.copy()\n",
    "    \n",
    "    is_in_daily_letters = True\n",
    "    for letter in norm_word:        \n",
    "        if letter not in daily_letter:\n",
    "            is_in_daily_letters = False\n",
    "            break          \n",
    "        \n",
    "        else:\n",
    "            daily_letter.remove(letter)\n",
    "     \n",
    "    return remaining_letters_recursive(norm_word, daily_letters)  "
   ]
  },
  {
   "cell_type": "code",
   "execution_count": null,
   "id": "2028349a",
   "metadata": {},
   "outputs": [],
   "source": [
    "df2"
   ]
  },
  {
   "cell_type": "code",
   "execution_count": null,
   "id": "5b903828",
   "metadata": {},
   "outputs": [],
   "source": []
  },
  {
   "cell_type": "code",
   "execution_count": null,
   "id": "3ccd7b78",
   "metadata": {},
   "outputs": [],
   "source": [
    "dic = {'um':[1,2,3,4,5],\n",
    "       'dois':[2,3,4,5,5]}"
   ]
  },
  {
   "cell_type": "code",
   "execution_count": null,
   "id": "2080fb36",
   "metadata": {},
   "outputs": [],
   "source": [
    "df3 = pd.DataFrame(dic)"
   ]
  },
  {
   "cell_type": "code",
   "execution_count": null,
   "id": "0e087d1d",
   "metadata": {},
   "outputs": [],
   "source": [
    "len(possible_word_list)"
   ]
  },
  {
   "cell_type": "code",
   "execution_count": null,
   "id": "72bde70e",
   "metadata": {},
   "outputs": [],
   "source": [
    "df2['aaa'] = 0\n",
    "\n",
    "for i, list_of_letters in enumerate(df2.remaining_letters):\n",
    "    \n",
    "    for word in possible_word_list:        \n",
    "        len_word = len(word)\n",
    "        y = 0\n",
    "        words = []\n",
    "        \n",
    "        daily_letter = list_of_letters.copy()    \n",
    "        is_in_daily_letters = True\n",
    "        for letter in word:        \n",
    "            if letter not in daily_letter:\n",
    "                is_in_daily_letters = False\n",
    "                break  \n",
    "                \n",
    "            else:\n",
    "                daily_letter.remove(letter)\n",
    "                y = y+1\n",
    "                \n",
    "            if (y == len_word):\n",
    "                words.append(word)\n",
    "            \n",
    "        \n",
    "        df2['aaa'][i] = words\n"
   ]
  },
  {
   "cell_type": "code",
   "execution_count": null,
   "id": "e662adc2",
   "metadata": {},
   "outputs": [],
   "source": [
    "len(df2)"
   ]
  },
  {
   "cell_type": "code",
   "execution_count": null,
   "id": "a193f1a5",
   "metadata": {},
   "outputs": [],
   "source": [
    "len(df2.remaining_letters)"
   ]
  },
  {
   "cell_type": "code",
   "execution_count": null,
   "id": "42f66f1f",
   "metadata": {},
   "outputs": [],
   "source": [
    "len(possible_word_list)"
   ]
  },
  {
   "cell_type": "code",
   "execution_count": null,
   "id": "070058b8",
   "metadata": {},
   "outputs": [],
   "source": []
  },
  {
   "cell_type": "code",
   "execution_count": null,
   "id": "0f5b1b9e",
   "metadata": {},
   "outputs": [],
   "source": [
    "def is_on_remaining_letters(norm_word, daily):    \n",
    "\n",
    "    daily_letter = daily.copy()\n",
    "    \n",
    "    for word in norm_word:\n",
    "        is_in_daily_letters = True\n",
    "        for letter in norm_word:        \n",
    "            if letter not in daily_letter:\n",
    "                is_in_daily_letters = False\n",
    "                break  \n",
    "\n",
    "            else:\n",
    "                daily_letter.remove(letter)\n",
    "                \n",
    "    print(is_in_daily_letters)"
   ]
  },
  {
   "cell_type": "code",
   "execution_count": null,
   "id": "e5229b36",
   "metadata": {},
   "outputs": [],
   "source": [
    "df2['remaining_letters_int_2'] = df2.apply(lambda x: is_on_remaining_letters(possible_word_list, x.remaining_letters), axis=1)"
   ]
  },
  {
   "cell_type": "code",
   "execution_count": null,
   "id": "aff62315",
   "metadata": {},
   "outputs": [],
   "source": [
    "df2"
   ]
  },
  {
   "cell_type": "code",
   "execution_count": null,
   "id": "43b3d86c",
   "metadata": {},
   "outputs": [],
   "source": []
  },
  {
   "cell_type": "code",
   "execution_count": null,
   "id": "780fd06a",
   "metadata": {},
   "outputs": [],
   "source": [
    "def on_remaining_letters(word_list, remain_letters):    \n",
    "\n",
    "    \n",
    "    remain_letters2 = remain_letters.copy()\n",
    "    possible_word = []\n",
    "    is_on_remaining_letters = True    \n",
    "    for word in word_list:\n",
    "        for letter in word:  \n",
    "            if letter not in remain_letters2:\n",
    "                is_on_remaining_letters = False\n",
    "                break  \n",
    "\n",
    "            else:          \n",
    "                possible_word.append(word)\n",
    "                remain_letters2.remove(letter)\n",
    "                \n",
    "    if(is_on_remaining_letters):                \n",
    "        return possible_word\n",
    "    "
   ]
  },
  {
   "cell_type": "code",
   "execution_count": null,
   "id": "d7fb6cc7",
   "metadata": {},
   "outputs": [],
   "source": [
    "df2['remaining_letters_int_2'] = df2.apply(lambda x: on_remaining_letters(possible_word_list,x.remaining_letters), axis=1)"
   ]
  },
  {
   "cell_type": "code",
   "execution_count": null,
   "id": "9121aec6",
   "metadata": {},
   "outputs": [],
   "source": [
    "df2"
   ]
  },
  {
   "cell_type": "code",
   "execution_count": null,
   "id": "a102c4ae",
   "metadata": {},
   "outputs": [],
   "source": []
  },
  {
   "cell_type": "code",
   "execution_count": null,
   "id": "b86a23b7",
   "metadata": {},
   "outputs": [],
   "source": []
  },
  {
   "cell_type": "code",
   "execution_count": null,
   "id": "76cb3b5b",
   "metadata": {},
   "outputs": [],
   "source": []
  },
  {
   "cell_type": "code",
   "execution_count": null,
   "id": "88261f02",
   "metadata": {
    "scrolled": true
   },
   "outputs": [],
   "source": [
    "for i, rem, word in zip (df2.index, df2.remaining_letters, df2.norm_word):  \n",
    "    \n",
    "    remaining_letter = rem.copy()   \n",
    "    is_in_remaining_letters = True\n",
    "\n",
    "    for letter in word:        \n",
    "        if letter not in remaining_letter:\n",
    "            is_in_remaining_letters = False\n",
    "            break  \n",
    "        \n",
    "        else:\n",
    "            remaining_letter.remove(letter)\n",
    "            \n",
    "\n",
    "    df2.loc[i, word] = is_in_remaining_letters"
   ]
  },
  {
   "cell_type": "code",
   "execution_count": null,
   "id": "bde9761a",
   "metadata": {},
   "outputs": [],
   "source": [
    "df2"
   ]
  },
  {
   "cell_type": "code",
   "execution_count": null,
   "id": "0d6efcab",
   "metadata": {},
   "outputs": [],
   "source": [
    "df2[df2.norm_word == 'ralo']"
   ]
  },
  {
   "cell_type": "code",
   "execution_count": null,
   "id": "2be49674",
   "metadata": {},
   "outputs": [],
   "source": []
  },
  {
   "cell_type": "code",
   "execution_count": null,
   "id": "25a84533",
   "metadata": {},
   "outputs": [],
   "source": []
  },
  {
   "cell_type": "code",
   "execution_count": null,
   "id": "1c3606b5",
   "metadata": {},
   "outputs": [],
   "source": []
  },
  {
   "cell_type": "code",
   "execution_count": null,
   "id": "5e364513",
   "metadata": {},
   "outputs": [],
   "source": []
  },
  {
   "cell_type": "code",
   "execution_count": null,
   "id": "77d92328",
   "metadata": {},
   "outputs": [],
   "source": [
    "def is_on_list(word, letter_list, it):\n",
    "    \n",
    "    if (it == 3):\n",
    "        is_on_list1 = True\n",
    "        print(\"it3 :\", is_on_list1 )\n",
    "        return is_on_list1\n",
    "    \n",
    "    letter_list2 = letter_list.copy()\n",
    "    is_on_list1 = True\n",
    "    \n",
    "\n",
    "    for letter in word:        \n",
    "        if letter not in letter_list2:\n",
    "            is_on_list1 = False\n",
    "            break  \n",
    "\n",
    "\n",
    "        else:\n",
    "            letter_list2.remove(letter)\n",
    "            print(\"it1 :\", letter_list2)\n",
    "\n",
    "    if it > 1:\n",
    "        letter_list3 = letter_list2.copy()\n",
    "        is_on_list(word, letter_list3, it+1)\n",
    "        "
   ]
  },
  {
   "cell_type": "code",
   "execution_count": null,
   "id": "9cad1007",
   "metadata": {},
   "outputs": [],
   "source": [
    "word = 'amor'\n",
    "letter_list = ['a', 'm', 'o', 'r', 'a', 'v']"
   ]
  },
  {
   "cell_type": "code",
   "execution_count": null,
   "id": "26055afe",
   "metadata": {},
   "outputs": [],
   "source": [
    "is_on_list(word, letter_list, 2)"
   ]
  },
  {
   "cell_type": "code",
   "execution_count": null,
   "id": "f1f6e7cb",
   "metadata": {},
   "outputs": [],
   "source": []
  },
  {
   "cell_type": "code",
   "execution_count": null,
   "id": "cee33313",
   "metadata": {},
   "outputs": [],
   "source": []
  },
  {
   "cell_type": "code",
   "execution_count": null,
   "id": "02cdf66e",
   "metadata": {},
   "outputs": [],
   "source": []
  },
  {
   "cell_type": "code",
   "execution_count": null,
   "id": "5f0c22f0",
   "metadata": {},
   "outputs": [],
   "source": [
    "def aaaa(possible_word_list, daily_list_att, it = 1, words = []):\n",
    "    \n",
    "       \n",
    "    daily_letters2 = daily_list_att.copy()\n",
    "\n",
    "    for word in possible_word_list:           \n",
    "        if(is_on_list(word, daily_letters2) == False):\n",
    "            \n",
    "            if it > 1:\n",
    "                words.append(word)\n",
    "                print(daily_letters2)\n",
    "                \n",
    "            else:\n",
    "                continue        \n",
    "\n",
    "        for letter in word:\n",
    "            if letter in daily_letters2:\n",
    "                daily_letters2.remove(letter)\n",
    "        \n",
    "        if (len(daily_letters2) > 1 and it <= 3):  \n",
    "            words.append(word)\n",
    "            aaaa(possible_word_list, daily_letters2, it+1, words)\n",
    "        \n",
    "            \n",
    "    #print((daily_letters2))\n",
    "\n",
    "    if(len(daily_letters2) == 0): \n",
    "        print('teste')\n",
    "        return words\n"
   ]
  },
  {
   "cell_type": "code",
   "execution_count": null,
   "id": "66ca849a",
   "metadata": {
    "scrolled": false
   },
   "outputs": [],
   "source": [
    "aaaa(possible_word_list, daily_letters, it = 1, words = [])"
   ]
  },
  {
   "cell_type": "code",
   "execution_count": null,
   "id": "23069696",
   "metadata": {},
   "outputs": [],
   "source": []
  },
  {
   "cell_type": "code",
   "execution_count": null,
   "id": "02f43c61",
   "metadata": {},
   "outputs": [],
   "source": []
  },
  {
   "cell_type": "code",
   "execution_count": null,
   "id": "4349922f",
   "metadata": {},
   "outputs": [],
   "source": []
  },
  {
   "cell_type": "code",
   "execution_count": null,
   "id": "96827167",
   "metadata": {},
   "outputs": [],
   "source": []
  },
  {
   "cell_type": "code",
   "execution_count": null,
   "id": "63ab2d62",
   "metadata": {},
   "outputs": [],
   "source": []
  },
  {
   "cell_type": "code",
   "execution_count": null,
   "id": "5d444acf",
   "metadata": {},
   "outputs": [],
   "source": []
  },
  {
   "cell_type": "code",
   "execution_count": null,
   "id": "058f1810",
   "metadata": {},
   "outputs": [],
   "source": []
  },
  {
   "cell_type": "code",
   "execution_count": null,
   "id": "92e04ee3",
   "metadata": {},
   "outputs": [],
   "source": [
    "def second_word(possible_word_list, daily_letters, iteration):\n",
    "   \n",
    "    possible_solution = []\n",
    "    \n",
    "    for word in possible_word_list: \n",
    "        daily_letters2 = []\n",
    "        \n",
    "        if(iteration > 1):\n",
    "            daily_letters2 = daily_letters.copy()    \n",
    "        \n",
    "        else: \n",
    "            daily_letters2 = daily_letters\n",
    "            \n",
    "        possible_word = []\n",
    "        \n",
    "        \n",
    "        for letter in word:\n",
    "            if letter in daily_letters2:\n",
    "                daily_letters2.remove(letter)\n",
    "\n",
    "        \n",
    "        if (len(daily_letters2) > 1 and iteration < 3):\n",
    "            second_word(word_list, daily_letters2, iteration+1)          \n",
    "        \n",
    "        possible_word.append(word)\n",
    "        \n",
    "        if(len(daily_letters2) == 0):\n",
    "            possible_solution.append(possible_word)\n",
    "            \n",
    "    return(possible_solution)\n",
    "    "
   ]
  },
  {
   "cell_type": "code",
   "execution_count": null,
   "id": "9852c2b2",
   "metadata": {},
   "outputs": [],
   "source": [
    "def  aaaaaa(word, possible_word_list, daily_letters, iteration):\n",
    "    daily_letters2 = []\n",
    "        \n",
    "    if(iteration > 1):\n",
    "        daily_letters2 = daily_letters.copy()    \n",
    "\n",
    "    else: \n",
    "        daily_letters2 = daily_letters\n",
    "\n",
    "    possible_word = []\n",
    "\n",
    "\n",
    "    for letter in word:\n",
    "        if letter in daily_letters2:\n",
    "            daily_letters2.remove(letter)\n",
    "\n",
    "\n",
    "    if (len(daily_letters2) > 1 and iteration < 3):\n",
    "        second_word(word_list, daily_letters2, iteration+1)          \n",
    "\n",
    "    possible_word.append(word)\n",
    "\n",
    "    if(len(daily_letters2) == 0):\n",
    "        possible_solution.append(possible_word)\n",
    "        \n",
    "        \n",
    "    "
   ]
  },
  {
   "cell_type": "code",
   "execution_count": null,
   "id": "2cd39bb4",
   "metadata": {},
   "outputs": [],
   "source": []
  },
  {
   "cell_type": "code",
   "execution_count": null,
   "id": "65430fa0",
   "metadata": {},
   "outputs": [],
   "source": [
    "possible_words = df_daily_letters.norm_word.to_list()"
   ]
  },
  {
   "cell_type": "code",
   "execution_count": null,
   "id": "43e8c8c5",
   "metadata": {},
   "outputs": [],
   "source": [
    "daily_letters"
   ]
  },
  {
   "cell_type": "code",
   "execution_count": null,
   "id": "b4262482",
   "metadata": {},
   "outputs": [],
   "source": [
    "df_daily_letters[df_daily_letters.norm_word == 'lj']"
   ]
  },
  {
   "cell_type": "code",
   "execution_count": null,
   "id": "03c74cb9",
   "metadata": {},
   "outputs": [],
   "source": [
    "a = second_word(possible_words, daily_letters, 1)"
   ]
  },
  {
   "cell_type": "code",
   "execution_count": null,
   "id": "ef8849b3",
   "metadata": {},
   "outputs": [],
   "source": [
    "a[0]"
   ]
  },
  {
   "cell_type": "code",
   "execution_count": null,
   "id": "c2555760",
   "metadata": {},
   "outputs": [],
   "source": [
    "a"
   ]
  },
  {
   "cell_type": "code",
   "execution_count": null,
   "id": "104604cb",
   "metadata": {},
   "outputs": [],
   "source": []
  }
 ],
 "metadata": {
  "kernelspec": {
   "display_name": "Python 3 (ipykernel)",
   "language": "python",
   "name": "python3"
  },
  "language_info": {
   "codemirror_mode": {
    "name": "ipython",
    "version": 3
   },
   "file_extension": ".py",
   "mimetype": "text/x-python",
   "name": "python",
   "nbconvert_exporter": "python",
   "pygments_lexer": "ipython3",
   "version": "3.9.12"
  }
 },
 "nbformat": 4,
 "nbformat_minor": 5
}
