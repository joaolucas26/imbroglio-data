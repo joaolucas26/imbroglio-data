{
 "cells": [
  {
   "cell_type": "code",
   "execution_count": null,
   "id": "050151a8",
   "metadata": {},
   "outputs": [],
   "source": [
    "import pandas as pd\n",
    "import numpy as np\n",
    "import unicodedata\n",
    "import re\n",
    "import json"
   ]
  },
  {
   "cell_type": "markdown",
   "id": "1ae6738b",
   "metadata": {},
   "source": [
    "# Funções"
   ]
  },
  {
   "cell_type": "code",
   "execution_count": null,
   "id": "f79c225f",
   "metadata": {},
   "outputs": [],
   "source": [
    "def tratativa(X):  \n",
    "    '''\n",
    "    Entrada: series\n",
    "    X_norm \n",
    "        - retira acentos das palavras \n",
    " \n",
    "    list comprehension\n",
    "        - remove palavras com hifen\n",
    "        - remove \".\"\n",
    "        - remove palavra com menos de 2 caracter\n",
    "        - remove palavras com letras maisculas (nomes proprios)\n",
    "        - remove palavras com caracteres especiais utilizando regex\n",
    "        - retira palavras escolhidas\n",
    "        \n",
    "    return: 2 listas, 1 de palavras sem acentos e outra normal\n",
    "    '''\n",
    "\n",
    "    \n",
    "    #verificacao do regex para caracteres especiais\n",
    "    string_check = re.compile(\"[ƒµ‚†„\\ˆ¥÷œ‡þ»+'-@_!#$%^&*()<>?/\\|}{~:ºª°º¹²³£¢¬]\")\n",
    "\n",
    "    word_list = [x for x in X\n",
    "                if  '-' not in x \n",
    "                and string_check.search(x) == None\n",
    "                #and len(x) > 2 \n",
    "                and '.' not in x \n",
    "                and x.lower() == x\n",
    "                ]\n",
    "\n",
    "    \n",
    "    word_list_clean = [x for x in word_list if x not in palavroes and x not in norm_palavroes]\n",
    "        \n",
    "    \n",
    "    word_list_clean = [x for x in word_list_clean \n",
    "                         if ''.join(\n",
    "                                 [letter for letter in x \n",
    "                                      if not letter.isdigit()]\n",
    "                                 )\n",
    "                                ]\n",
    "    \n",
    "    word_list_pt = [x for x in word_list_clean if x not in only_en]\n",
    "    \n",
    "    # removendo acentos\n",
    "    y = pd.Series(word_list_pt)\n",
    "    X_norm = y.apply(lambda row: strip_accents(row))\n",
    "    \n",
    "    return X_norm.to_list(), word_list_pt"
   ]
  },
  {
   "cell_type": "code",
   "execution_count": null,
   "id": "9486f916",
   "metadata": {},
   "outputs": [],
   "source": [
    "def strip_accents(s):\n",
    "    return ''.join(c for c in unicodedata.normalize('NFD', s)\n",
    "                    if unicodedata.category(c) != 'Mn')"
   ]
  },
  {
   "cell_type": "markdown",
   "id": "b5e51d13",
   "metadata": {},
   "source": [
    "# IMPORTANDO DICIONARIO PORTUGUES"
   ]
  },
  {
   "cell_type": "code",
   "execution_count": null,
   "id": "8f15bcdd",
   "metadata": {},
   "outputs": [],
   "source": [
    "PATH = 'Data/dicionario/lexporbr_alfa_excel.xlsx'\n",
    "lexico = pd.read_excel(PATH)\n",
    "lexico.head()"
   ]
  },
  {
   "cell_type": "code",
   "execution_count": null,
   "id": "45702be7",
   "metadata": {},
   "outputs": [],
   "source": [
    "lexico[lexico.cat_gram == 'ver'].sample(10)"
   ]
  },
  {
   "cell_type": "code",
   "execution_count": null,
   "id": "6664feae",
   "metadata": {},
   "outputs": [],
   "source": []
  },
  {
   "cell_type": "markdown",
   "id": "66bab063",
   "metadata": {},
   "source": [
    "# EDA "
   ]
  },
  {
   "cell_type": "code",
   "execution_count": null,
   "id": "c22f8739",
   "metadata": {},
   "outputs": [],
   "source": [
    "lexico.ortografia.duplicated().sum()"
   ]
  },
  {
   "cell_type": "code",
   "execution_count": null,
   "id": "322a52dd",
   "metadata": {},
   "outputs": [],
   "source": [
    "lexico.ortografia.isna().sum()"
   ]
  },
  {
   "cell_type": "markdown",
   "id": "0264f97a",
   "metadata": {},
   "source": [
    "# Iniciando Tratativas"
   ]
  },
  {
   "cell_type": "markdown",
   "id": "a19d1e3a",
   "metadata": {},
   "source": [
    "### NULOS E DUPLICADAS"
   ]
  },
  {
   "cell_type": "code",
   "execution_count": null,
   "id": "f3140376",
   "metadata": {},
   "outputs": [],
   "source": [
    "lexico = lexico.dropna(subset=['ortografia'])"
   ]
  },
  {
   "cell_type": "code",
   "execution_count": null,
   "id": "f90c84dc",
   "metadata": {
    "scrolled": true
   },
   "outputs": [],
   "source": [
    "lexico = lexico.drop_duplicates(subset= 'ortografia', keep='first')"
   ]
  },
  {
   "cell_type": "markdown",
   "id": "d288d33a",
   "metadata": {},
   "source": [
    "-------"
   ]
  },
  {
   "cell_type": "markdown",
   "id": "24598a3b",
   "metadata": {},
   "source": [
    "## QUANTIDADE DE LETRAS"
   ]
  },
  {
   "cell_type": "markdown",
   "id": "6fcd589e",
   "metadata": {},
   "source": [
    "#### cria dataframe com todas as palavras maiores que 2 caracteres que não sejam numericos"
   ]
  },
  {
   "cell_type": "code",
   "execution_count": null,
   "id": "85851f19",
   "metadata": {},
   "outputs": [],
   "source": [
    "lexico_filtered = lexico[(lexico['nb_letras'] > 2) & (lexico.cat_gram != 'num')]"
   ]
  },
  {
   "cell_type": "markdown",
   "id": "f93bb084",
   "metadata": {},
   "source": [
    "##### cria dataframe com todas as palavras de 2 caracteres que não sejam numericos para futuruas tratativas diferenciadas"
   ]
  },
  {
   "cell_type": "code",
   "execution_count": null,
   "id": "7b61380d",
   "metadata": {},
   "outputs": [],
   "source": [
    "lexico_filtered_2_letras = lexico[(lexico['nb_letras'] == 2) & (lexico.cat_gram != 'num')]"
   ]
  },
  {
   "cell_type": "code",
   "execution_count": null,
   "id": "dc059ef4",
   "metadata": {},
   "outputs": [],
   "source": [
    "lexico_filtered_2_letras = lexico_filtered_2_letras.sort_values(by='freq_orto/M', ascending=False)"
   ]
  },
  {
   "cell_type": "code",
   "execution_count": null,
   "id": "84492631",
   "metadata": {},
   "outputs": [],
   "source": [
    "lexico_filtered_2_letras.shape"
   ]
  },
  {
   "cell_type": "code",
   "execution_count": null,
   "id": "c4b5919c",
   "metadata": {},
   "outputs": [],
   "source": [
    "lexico_filtered_2_letras.head()['ortografia']"
   ]
  },
  {
   "cell_type": "markdown",
   "id": "44be6099",
   "metadata": {},
   "source": [
    "-------"
   ]
  },
  {
   "cell_type": "markdown",
   "id": "0d46607a",
   "metadata": {},
   "source": [
    "# LISTA PALAVRAS EM INGLES"
   ]
  },
  {
   "cell_type": "markdown",
   "id": "fd291428",
   "metadata": {},
   "source": [
    "#####  lendo dicionario lexico em ingles"
   ]
  },
  {
   "cell_type": "code",
   "execution_count": null,
   "id": "d4bbf188",
   "metadata": {},
   "outputs": [],
   "source": [
    "#http://crr.ugent.be/programs-data/subtitle-frequencies\n",
    "lexico_en = pd.read_excel(r'Data\\dicionario\\SUBTLEXusfrequencyabove1.xls')\n",
    "lexico_en.head()"
   ]
  },
  {
   "cell_type": "code",
   "execution_count": null,
   "id": "36c838b9",
   "metadata": {},
   "outputs": [],
   "source": [
    "lexico_en.shape"
   ]
  },
  {
   "cell_type": "markdown",
   "id": "10d19b56",
   "metadata": {},
   "source": [
    "##### transformando em lista"
   ]
  },
  {
   "cell_type": "code",
   "execution_count": null,
   "id": "2471b188",
   "metadata": {},
   "outputs": [],
   "source": [
    "english_words = lexico_en.Word.to_list()"
   ]
  },
  {
   "cell_type": "markdown",
   "id": "ea31f31b",
   "metadata": {},
   "source": [
    "##### ordenando pelas mais frequentes (as palavras em pt br ficarão por ultimo, na 6077 colocação) - leitura visual"
   ]
  },
  {
   "cell_type": "code",
   "execution_count": null,
   "id": "cbca2528",
   "metadata": {},
   "outputs": [],
   "source": [
    "br_en = lexico[lexico.ortografia.isin(english_words)].sort_values(by='freq_orto/M').ortografia.to_list()"
   ]
  },
  {
   "cell_type": "code",
   "execution_count": null,
   "id": "b83f1eed",
   "metadata": {},
   "outputs": [],
   "source": [
    "br_en[0:20]"
   ]
  },
  {
   "cell_type": "markdown",
   "id": "3527decf",
   "metadata": {},
   "source": [
    "##### apos verificação manual, notei que essas palavras são brasileiras (ou frequentemente utilizadas no brasil) "
   ]
  },
  {
   "cell_type": "code",
   "execution_count": null,
   "id": "81f35484",
   "metadata": {},
   "outputs": [],
   "source": [
    "list_br ='''exotica, formulas, scan, magazine, erotica, level, karaoke, guacamole, hospital, bug, bugs, cadaver, câncer, videocassete, vina, vodka, trial, loop, loops, protons, pet, fã, delete, kilo, kilos, cameras, camera, supernatural, short, use, megabytes, polyester, tsunami, médico, live, pátio, inglês, vírus, álbum, mimosa, língua, bio, zap, premium, aliens, alien, pet, pets, hétero, áudio, nerds, nerd, panda, pandas, ninja, ninjas, revise, desktop, anime, cloaca, insular, retro, revolver, indie, neural, macular, medicina, multi, multicultural, auras, aura, container, containers, whisky, whiskies, torso, tiara, ultimo, tutu, local, radio, debutante, flamenco, boxer  , box, combine, cacam baste, basta, barmen, ancora, abates, impostor, iguana, zona, senhorita, led, megawatt, familia, arenas, arena, avance, melodrama, network, poodle, script, semi, juris, jambo, ignore, hacker, gurus, cameraman, avatar, motocross, moto, snowboard, placebo, hobbies, hobby, colas, celestial, celeste, cardiovascular, interface, interfaces, cola, elixir, elixires, vulva, tech, taverna, superego, paranormal, tavernas, portifólio, fondue, escudos, clerical, mandala, manda, número, console, jeep, tempera, silos, poster, pixel, pixels, remix, clique, bike, bikes, cliques, samurais, samurai, sonata, banda, bandas, neuroses, peques, rumba, torpedo, tutorial, modular, consular, carte, intima, intimo, intimas, intimos, utublar, tender, sequela, patina, máscara, iguanas, hangar, ferias, edema, descamisados, jumbo, floral, latitude, gourmet, piano, pianos, marrom, marrons, lambada, fax, faxes, surreal, solicitude, critique, date, examine, replay, remove, vendor, mica, pesetas, dolar, tótem, proverbial, fraternal, nasal, intercontinental, paternal, maternal, feedback, crepe, clone, clones, converse, suíte, merengue, ornamental, sapiens, laptop, lustre, ballet, force, cowboy, cetera, bodes, batom, batons, muleta, tango, pulsar, plebe, mambo, pata, garagem, torque, zoom, subverter, facial, larva, margarita, vascular, servo, virtuoso, presto, predecessor, mole, moles, cache, decimal, declare, capô, temperamental, piranha, piranhas, flamingos, abdominal, cabanas, dons, egos, vertebral, posteriori, recuse, diocese, triangular, radial, pólo, mamas, vesceral, eras, manifestos, manifesto, novena, neutrino, colossal, zebras, zebra, doer, ketchup, mini, posses, posse, vagina, menstrual, menstrua, complete, internet, perpendicular, reserve, marque, libido, tacos, taco, magma, umbilical, burros, jingles, provincial, provincia, shop, sensor, poses, fosse, gospel, causa, hematomas, pampas, sbsolve, chef, chefs, exportar, picante, media, aficionados, vans, van, gringo, infame, ocular, salvos, resorte,transistor, tribal, pedestal, anorexia, cone, cones, drinks, drink, pastoral, portal, fórmula, servos, longitudinal, carnal, frame, chassi, visor, limbo, mucosa, aromas, aroma, renal, volts, fetal, homo, concha, genital, spray, hormonal, anal, dorsal, rifle, paparazzi, menu, casco, caviar, manias, salve, fado, lira, haste, logo, logos, expert, loco, loca, compressor, trailer, longitude, sina, imbórglio, grata, altitudes, orbital, rim, skate, champagne, detector, prepare, angular, fractal, executor, modelo, tutor, tapas, video, papas, papa, nuances, manicure, gringos, feudal, você, lava, rea, televisor, mosquitos, mosquito, vocês, feudais, lavas, machismo, trombone, tequila, revive, soda, ardor, enigmas, enigma, sushi, molar, rata, rato, precede, cover, dental, baby, bolos, note, diagonal, salsa, capacitor, odor, secular, pedal, cia, apologia, realize'''\n",
    "list_br = list_br.split(', ')"
   ]
  },
  {
   "cell_type": "code",
   "execution_count": null,
   "id": "bb891f51",
   "metadata": {},
   "outputs": [],
   "source": [
    "len(list_br)"
   ]
  },
  {
   "cell_type": "markdown",
   "id": "e3a10923",
   "metadata": {},
   "source": [
    "##### Apos a 6077 palavra, a maioria das palavras estão em portugues, então criei uma lista pra retirar as de ingles entre elas"
   ]
  },
  {
   "cell_type": "code",
   "execution_count": null,
   "id": "3822a6bb",
   "metadata": {},
   "outputs": [],
   "source": [
    "list_en = '''hip, flat, club, jet, must, killer, blazer, it, est, kitsch, heavy, new, royalties, remake, you, rockets, slides, he, business, ops, thriller, notes, made, is, hall, es, by, overnight, country, playoffs, franchising, du, th, cr, soft, food, free, drag, out, soccer, at, cap, star, big, flash, rpm, point, notes, seller, best, zapping, ita, ad, off, qua, quas, es, made, is, mote, line, con, grid, besides, look, pool, s, ex, prime, ohms, ram, game, rg, fr, op, cc, ante, on, to, per, et, en, light, y, sex, n, bi, over, of, di, cm, mi, t, in, kg, iii, te, d, 0'''\n",
    "list_en = list_en.split(', ')\n",
    "list_en = pd.Series(list_en).apply(lambda row: strip_accents(row))\n",
    "list_en = list_en.to_list()"
   ]
  },
  {
   "cell_type": "code",
   "execution_count": null,
   "id": "86e5acd2",
   "metadata": {},
   "outputs": [],
   "source": [
    "len(list_en)"
   ]
  },
  {
   "cell_type": "markdown",
   "id": "a59a3128",
   "metadata": {},
   "source": [
    "#### verifica se as primeiras 6077 palavras da lista de palavras \"em ingles\" não estão na lista de palavras em br e as proxima ESTÃO  lista de palavras ingles"
   ]
  },
  {
   "cell_type": "code",
   "execution_count": null,
   "id": "ab555a7a",
   "metadata": {},
   "outputs": [],
   "source": [
    "#retirando as br da lista de ingles\n",
    "only_en = [x for x in br_en[0:6077] if x not in list_br] + [y for y in br_en[6077:] if y in list_en]"
   ]
  },
  {
   "cell_type": "code",
   "execution_count": null,
   "id": "ac153078",
   "metadata": {},
   "outputs": [],
   "source": [
    "only_en[0:50]"
   ]
  },
  {
   "cell_type": "markdown",
   "id": "70056f0b",
   "metadata": {},
   "source": [
    "--------"
   ]
  },
  {
   "cell_type": "markdown",
   "id": "4cf070b6",
   "metadata": {},
   "source": [
    "# PALAVRÕES"
   ]
  },
  {
   "cell_type": "markdown",
   "id": "5bbf33f1",
   "metadata": {},
   "source": [
    "#### lendo o ARQUIVO DE PALAVROES \n"
   ]
  },
  {
   "cell_type": "code",
   "execution_count": null,
   "id": "8db5f990",
   "metadata": {},
   "outputs": [],
   "source": [
    "#lendo o ARQUIVO DE PALAVROES \n",
    "f = open('Data/palavroes.txt') \n",
    "palavroes = f.readlines()\n",
    "f.close()"
   ]
  },
  {
   "cell_type": "code",
   "execution_count": null,
   "id": "555b8c19",
   "metadata": {},
   "outputs": [],
   "source": [
    "palavroes"
   ]
  },
  {
   "cell_type": "markdown",
   "id": "bb19fb51",
   "metadata": {},
   "source": [
    "#### Tratando palavrões"
   ]
  },
  {
   "cell_type": "code",
   "execution_count": null,
   "id": "1f683c9a",
   "metadata": {},
   "outputs": [],
   "source": [
    "palavroes = pd.Series(palavroes).apply(lambda x: x.lower().replace('\\n ', '').replace(' ', ''))\n",
    "norm_palavroes = pd.Series(palavroes).apply(lambda row: strip_accents(row))"
   ]
  },
  {
   "cell_type": "markdown",
   "id": "d8f65f9c",
   "metadata": {},
   "source": [
    "--------"
   ]
  },
  {
   "cell_type": "markdown",
   "id": "1be449c6",
   "metadata": {},
   "source": [
    "# CHAMADA DAS FUNÇÕES"
   ]
  },
  {
   "cell_type": "code",
   "execution_count": null,
   "id": "9f09fd12",
   "metadata": {},
   "outputs": [],
   "source": [
    "normalized_word_list, word_list= tratativa(lexico_filtered['ortografia'])"
   ]
  },
  {
   "cell_type": "code",
   "execution_count": null,
   "id": "4f83a8a3",
   "metadata": {},
   "outputs": [],
   "source": [
    "normalized_word_list_2_letras, word_list_2_letras= tratativa(lexico_filtered_2_letras['ortografia'])"
   ]
  },
  {
   "cell_type": "code",
   "execution_count": null,
   "id": "639dc188",
   "metadata": {},
   "outputs": [],
   "source": [
    "normalized_word_list_2_letras[0:32]"
   ]
  },
  {
   "cell_type": "code",
   "execution_count": null,
   "id": "ea61e123",
   "metadata": {},
   "outputs": [],
   "source": [
    "'jet' in word_list"
   ]
  },
  {
   "cell_type": "code",
   "execution_count": null,
   "id": "9d8235f4",
   "metadata": {},
   "outputs": [],
   "source": []
  },
  {
   "cell_type": "code",
   "execution_count": null,
   "id": "3988d846",
   "metadata": {},
   "outputs": [],
   "source": []
  },
  {
   "cell_type": "markdown",
   "id": "83e7bf39",
   "metadata": {},
   "source": [
    "# Adicionando palavras com 2 letras na lista de palavras totais (normalizadas e nao normalizadas)"
   ]
  },
  {
   "cell_type": "code",
   "execution_count": null,
   "id": "5a7f7b57",
   "metadata": {},
   "outputs": [],
   "source": [
    "#apos feito uma inspeção visual, foi defido que das 478 palavras de 2 letras, apenas as 32 primeiras sao relevantes. \n",
    "#Mesmo com alguns lixos (lista retirar) e de todass as 478 palavras, algumas ainda seriam relevantes (lista inserir e norm_inserir)\n",
    "retirar = ['ao', 'km', 'ii', 'mg']\n",
    "inserir = ['lá', 'fé','tú', 'dê', 'se', 'nó', 'dj', 'br', 'pá', 'dó', 'ok','oi', 'nú']\n",
    "norm_inserir = ['la', 'fe','tu', 'de', 'se', 'no', 'dj', 'br', 'pa', 'do', 'ok','oi', 'nu']\n",
    "\n",
    "\n",
    "# as 32 primeiras palavras da lista estão ok\n",
    "#retirnando as palavras normalizadas escolhidas dentre as 32 primeiras da lista de palavras com 2 letras\n",
    "normalized_word_list_2_letras = [x for x in normalized_word_list_2_letras[0:32] if x not in retirar] \n",
    "\n",
    "#inserindo as palavras normalizadas escolhidas\n",
    "normalized_word_list_2_letras = normalized_word_list_2_letras + norm_inserir\n",
    "\n",
    "#somando com a lista de palavras normalizadas todais\n",
    "normalized_word_list = normalized_word_list + normalized_word_list_2_letras\n",
    "\n",
    "\n",
    "#repetindo o processo para lista de palavras nao normalizadas\n",
    "#retirnando as palavras escolhidas dentre as 32 primeiras da lista de palavras com 2 letras dentre as 32 primeiras\n",
    "word_list_2_letras = [x for x in word_list_2_letras[0:32] if x not in retirar] \n",
    "\n",
    "#inserindo as palavras escolhidas\n",
    "word_list_2_letras = word_list_2_letras + norm_inserir\n",
    "\n",
    "#somando com a lista de palavras\n",
    "word_list = word_list + word_list_2_letras"
   ]
  },
  {
   "cell_type": "code",
   "execution_count": null,
   "id": "d2e7d948",
   "metadata": {},
   "outputs": [],
   "source": [
    "len(word_list)"
   ]
  },
  {
   "cell_type": "markdown",
   "id": "a00cba62",
   "metadata": {},
   "source": [
    "# CRIANDO O JSON"
   ]
  },
  {
   "cell_type": "code",
   "execution_count": null,
   "id": "ca3846f0",
   "metadata": {},
   "outputs": [],
   "source": [
    "import json\n",
    "\n",
    "i = 0\n",
    "dic_aux = {}\n",
    "list_aux = []\n",
    "\n",
    "for word, norm_word in zip(word_list, normalized_word_list):\n",
    "    dic_aux = {\n",
    "        'id': i,\n",
    "        'word':word,\n",
    "        'normalized': norm_word\n",
    "    }    \n",
    "    list_aux.append(dic_aux)\n",
    "    i = i+1"
   ]
  },
  {
   "cell_type": "markdown",
   "id": "339627d4",
   "metadata": {},
   "source": [
    "## INSERINDO LISTA DE NUMERAIS DIRETO NO JSON"
   ]
  },
  {
   "cell_type": "code",
   "execution_count": null,
   "id": "49baafbc",
   "metadata": {},
   "outputs": [],
   "source": [
    "numerais = 'um, dois, três, quatro, cinco, seis, sete, oito, nove, dez, onze, doze, treze, quatorze, quinze, dezesseis, dezessete, dezoito, dezenove, vinte, trinta, quarenta, cinquenta, sessenta, setenta, oitenta, noventa, cem, duzentos, trezentos, quatrocentos, quinhentos, seiscentos, setecentos, oitocentos, novecentos, mil'\n",
    "numerais = numerais.split(', ')\n",
    "norm_numerais = pd.Series(numerais).apply(lambda row: strip_accents(row))\n",
    "\n",
    "\n",
    "list_aux2 = []\n",
    "for i in range (len(list_aux), len(list_aux) +  len(numerais)):\n",
    "    dic_aux = {\n",
    "        'id': i,\n",
    "        'word': numerais[i - len(list_aux)],\n",
    "        'normalized' : norm_numerais.to_list()[i - len(list_aux)]        \n",
    "    }\n",
    "    \n",
    "    list_aux2.append(dic_aux)"
   ]
  },
  {
   "cell_type": "code",
   "execution_count": null,
   "id": "73238340",
   "metadata": {},
   "outputs": [],
   "source": [
    "list_aux = list_aux + list_aux2"
   ]
  },
  {
   "cell_type": "code",
   "execution_count": null,
   "id": "1065409e",
   "metadata": {
    "scrolled": true
   },
   "outputs": [],
   "source": [
    "len(list_aux)"
   ]
  },
  {
   "cell_type": "markdown",
   "id": "3604c581",
   "metadata": {},
   "source": [
    "## SALVANDO O JSON"
   ]
  },
  {
   "cell_type": "code",
   "execution_count": null,
   "id": "fe1dca8f",
   "metadata": {},
   "outputs": [],
   "source": [
    "#salvando o arquivo json\n",
    "#with open('Data/words.json', 'w') as f:\n",
    "#    json.dump(list_aux, f)"
   ]
  },
  {
   "cell_type": "code",
   "execution_count": null,
   "id": "e375ddd4",
   "metadata": {},
   "outputs": [],
   "source": []
  },
  {
   "cell_type": "markdown",
   "id": "2abbb327",
   "metadata": {},
   "source": [
    "----"
   ]
  },
  {
   "cell_type": "markdown",
   "id": "9c786718",
   "metadata": {},
   "source": [
    "# RESULTADOS:"
   ]
  },
  {
   "cell_type": "code",
   "execution_count": null,
   "id": "15ed4475",
   "metadata": {},
   "outputs": [],
   "source": [
    "import json\n",
    "import pandas as pd"
   ]
  },
  {
   "cell_type": "markdown",
   "id": "49fd702b",
   "metadata": {},
   "source": [
    "#### LENDO O JSON"
   ]
  },
  {
   "cell_type": "code",
   "execution_count": null,
   "id": "6de5855d",
   "metadata": {},
   "outputs": [],
   "source": [
    "#lendo o JSON \n",
    "f = open('Data/words.json') \n",
    "words_file = json.load(f)\n",
    "f.close()"
   ]
  },
  {
   "cell_type": "code",
   "execution_count": null,
   "id": "b144bb94",
   "metadata": {},
   "outputs": [],
   "source": [
    "word_list = []\n",
    "normalized_word_list =[]\n",
    "\n",
    "for dic in words_file:\n",
    "    word_list.append(dic['word'])\n",
    "    normalized_word_list.append(dic['normalized'])"
   ]
  },
  {
   "cell_type": "code",
   "execution_count": null,
   "id": "8b9a34eb",
   "metadata": {},
   "outputs": [],
   "source": [
    "dic = {'word': word_list,\n",
    "      'norm_word': normalized_word_list}"
   ]
  },
  {
   "cell_type": "code",
   "execution_count": null,
   "id": "58f6d5f5",
   "metadata": {},
   "outputs": [],
   "source": [
    "words_df = pd.DataFrame(dic, columns =['word', 'norm_word'])"
   ]
  },
  {
   "cell_type": "code",
   "execution_count": null,
   "id": "9a7be533",
   "metadata": {},
   "outputs": [],
   "source": [
    "words_df"
   ]
  },
  {
   "cell_type": "markdown",
   "id": "91cb8746",
   "metadata": {},
   "source": [
    "------------"
   ]
  },
  {
   "cell_type": "markdown",
   "id": "17062338",
   "metadata": {},
   "source": [
    "# Adicionais"
   ]
  },
  {
   "cell_type": "markdown",
   "id": "db912ab8",
   "metadata": {},
   "source": [
    "####  - CONJULGANDO VERBOS"
   ]
  },
  {
   "cell_type": "code",
   "execution_count": null,
   "id": "9ba7956e",
   "metadata": {},
   "outputs": [],
   "source": [
    "PATH = 'Data/dicionario/lexporbr_alfa_excel.xlsx'\n",
    "lexico = pd.read_excel(PATH)\n",
    "lexico.head()"
   ]
  },
  {
   "cell_type": "markdown",
   "id": "ead72973",
   "metadata": {},
   "source": [
    "#### tratando verbos irregulares"
   ]
  },
  {
   "cell_type": "code",
   "execution_count": null,
   "id": "0cf85edd",
   "metadata": {},
   "outputs": [],
   "source": [
    "lexico"
   ]
  },
  {
   "cell_type": "code",
   "execution_count": null,
   "id": "256c65ed",
   "metadata": {},
   "outputs": [],
   "source": [
    "#html com lista de verbos irregulares de https://www.conjugacao.com.br/verbos-irregulares/\n",
    "irregular_verbs_html = '''<div class=\"wrapper\">\n",
    "    <ul><li><a href=\"/verbo-abster/\" title=\"Verbo abster\">abster</a></li><li><a href=\"/verbo-acudir/\" title=\"Verbo acudir\">acudir</a></li><li><a href=\"/verbo-adequar/\" title=\"Verbo adequar\">adequar</a></li><li><a href=\"/verbo-aderir/\" title=\"Verbo aderir\">aderir</a></li><li><a href=\"/verbo-adjazer/\" title=\"Verbo adjazer\">adjazer</a></li><li><a href=\"/verbo-advertir/\" title=\"Verbo advertir\">advertir</a></li><li><a href=\"/verbo-advir/\" title=\"Verbo advir\">advir</a></li><li><a href=\"/verbo-afazer/\" title=\"Verbo afazer\">afazer</a></li><li><a href=\"/verbo-aferir/\" title=\"Verbo aferir\">aferir</a></li><li><a href=\"/verbo-agredir/\" title=\"Verbo agredir\">agredir</a></li><li><a href=\"/verbo-ansiar/\" title=\"Verbo ansiar\">ansiar</a></li><li><a href=\"/verbo-antedar/\" title=\"Verbo antedar\">antedar</a></li><li><a href=\"/verbo-antepor/\" title=\"Verbo antepor\">antepor</a></li><li><a href=\"/verbo-antever/\" title=\"Verbo antever\">antever</a></li><li><a href=\"/verbo-apor/\" title=\"Verbo apor\">apor</a></li><li><a href=\"/verbo-aprazer/\" title=\"Verbo aprazer\">aprazer</a></li><li><a href=\"/verbo-apropinquar/\" title=\"Verbo apropinquar\">apropinquar</a></li><li><a href=\"/verbo-aspergir/\" title=\"Verbo aspergir\">aspergir</a></li><li><a href=\"/verbo-assentir/\" title=\"Verbo assentir\">assentir</a></li><li><a href=\"/verbo-ater/\" title=\"Verbo ater\">ater</a></li><li><a href=\"/verbo-atrair/\" title=\"Verbo atrair\">atrair</a></li><li><a href=\"/verbo-atribuir/\" title=\"Verbo atribuir\">atribuir</a></li><li><a href=\"/verbo-auferir/\" title=\"Verbo auferir\">auferir</a></li><li><a href=\"/verbo-autodestruir/\" title=\"Verbo autodestruir\">autodestruir</a></li><li><a href=\"/verbo-avir/\" title=\"Verbo avir\">avir</a></li><li><a href=\"/verbo-bem-dizer/\" title=\"Verbo bem-dizer\">bem-dizer</a></li><li><a href=\"/verbo-bem-fazer/\" title=\"Verbo bem-fazer\">bem-fazer</a></li><li><a href=\"/verbo-bem-querer/\" title=\"Verbo bem-querer\">bem-querer</a></li><li><a href=\"/verbo-bendizer/\" title=\"Verbo bendizer\">bendizer</a></li><li><a href=\"/verbo-benfazer/\" title=\"Verbo benfazer\">benfazer</a></li><li><a href=\"/verbo-benquerer/\" title=\"Verbo benquerer\">benquerer</a></li><li><a href=\"/verbo-buir/\" title=\"Verbo buir\">buir</a></li><li><a href=\"/verbo-bulir/\" title=\"Verbo bulir\">bulir</a></li><li><a href=\"/verbo-caber/\" title=\"Verbo caber\">caber</a></li><li><a href=\"/verbo-cair/\" title=\"Verbo cair\">cair</a></li><li><a href=\"/verbo-cerzir/\" title=\"Verbo cerzir\">cerzir</a></li><li><a href=\"/verbo-circumpor/\" title=\"Verbo circumpor\">circumpor</a></li><li><a href=\"/verbo-circunver/\" title=\"Verbo circunver\">circunver</a></li><li><a href=\"/verbo-cobrir/\" title=\"Verbo cobrir\">cobrir</a></li><li><a href=\"/verbo-compelir/\" title=\"Verbo compelir\">compelir</a></li><li><a href=\"/verbo-competir/\" title=\"Verbo competir\">competir</a></li><li><a href=\"/verbo-compor/\" title=\"Verbo compor\">compor</a></li><li><a href=\"/verbo-comprazer/\" title=\"Verbo comprazer\">comprazer</a></li><li><a href=\"/verbo-concernir/\" title=\"Verbo concernir\">concernir</a></li><li><a href=\"/verbo-concluir/\" title=\"Verbo concluir\">concluir</a></li><li><a href=\"/verbo-condizer/\" title=\"Verbo condizer\">condizer</a></li><li><a href=\"/verbo-conferir/\" title=\"Verbo conferir\">conferir</a></li><li><a href=\"/verbo-confugir/\" title=\"Verbo confugir\">confugir</a></li><li><a href=\"/verbo-conseguir/\" title=\"Verbo conseguir\">conseguir</a></li><li><a href=\"/verbo-consentir/\" title=\"Verbo consentir\">consentir</a></li><li><a href=\"/verbo-construir/\" title=\"Verbo construir\">construir</a></li><li><a href=\"/verbo-consumir/\" title=\"Verbo consumir\">consumir</a></li><li><a href=\"/verbo-conter/\" title=\"Verbo conter\">conter</a></li><li><a href=\"/verbo-contradizer/\" title=\"Verbo contradizer\">contradizer</a></li><li><a href=\"/verbo-contrafazer/\" title=\"Verbo contrafazer\">contrafazer</a></li><li><a href=\"/verbo-contrair/\" title=\"Verbo contrair\">contrair</a></li><li><a href=\"/verbo-contrapor/\" title=\"Verbo contrapor\">contrapor</a></li><li><a href=\"/verbo-contrapropor/\" title=\"Verbo contrapropor\">contrapropor</a></li><li><a href=\"/verbo-contravir/\" title=\"Verbo contravir\">contravir</a></li><li><a href=\"/verbo-convergir/\" title=\"Verbo convergir\">convergir</a></li><li><a href=\"/verbo-convir/\" title=\"Verbo convir\">convir</a></li><li><a href=\"/verbo-crer/\" title=\"Verbo crer\">crer</a></li><li><a href=\"/verbo-cuspir/\" title=\"Verbo cuspir\">cuspir</a></li><li><a href=\"/verbo-dar/\" title=\"Verbo dar\">dar</a></li><li><a href=\"/verbo-decompor/\" title=\"Verbo decompor\">decompor</a></li><li><a href=\"/verbo-deferir/\" title=\"Verbo deferir\">deferir</a></li><li><a href=\"/verbo-delinquir/\" title=\"Verbo delinquir\">delinquir</a></li><li><a href=\"/verbo-denegrir/\" title=\"Verbo denegrir\">denegrir</a></li><li><a href=\"/verbo-depor/\" title=\"Verbo depor\">depor</a></li><li><a href=\"/verbo-desafazer/\" title=\"Verbo desafazer\">desafazer</a></li><li><a href=\"/verbo-desaguar/\" title=\"Verbo desaguar\">desaguar</a></li><li><a href=\"/verbo-desapor/\" title=\"Verbo desapor\">desapor</a></li><li><a href=\"/verbo-desaprazer/\" title=\"Verbo desaprazer\">desaprazer</a></li><li><a href=\"/verbo-desavir/\" title=\"Verbo desavir\">desavir</a></li><li><a href=\"/verbo-descaber/\" title=\"Verbo descaber\">descaber</a></li><li><a href=\"/verbo-descobrir/\" title=\"Verbo descobrir\">descobrir</a></li><li><a href=\"/verbo-descompor/\" title=\"Verbo descompor\">descompor</a></li><li><a href=\"/verbo-descomprazer/\" title=\"Verbo descomprazer\">descomprazer</a></li><li><a href=\"/verbo-desconstruir/\" title=\"Verbo desconstruir\">desconstruir</a></li><li><a href=\"/verbo-desconvir/\" title=\"Verbo desconvir\">desconvir</a></li><li><a href=\"/verbo-descrer/\" title=\"Verbo descrer\">descrer</a></li><li><a href=\"/verbo-desdar/\" title=\"Verbo desdar\">desdar</a></li><li><a href=\"/verbo-desdizer/\" title=\"Verbo desdizer\">desdizer</a></li><li><a href=\"/verbo-desimpedir/\" title=\"Verbo desimpedir\">desimpedir</a></li><li><a href=\"/verbo-desimpor/\" title=\"Verbo desimpor\">desimpor</a></li><li><a href=\"/verbo-deslinguar/\" title=\"Verbo deslinguar\">deslinguar</a></li><li><a href=\"/verbo-desmedir/\" title=\"Verbo desmedir\">desmedir</a></li><li><a href=\"/verbo-desmentir/\" title=\"Verbo desmentir\">desmentir</a></li><li><a href=\"/verbo-desmobiliar/\" title=\"Verbo desmobiliar\">desmobiliar</a></li><li><a href=\"/verbo-despedir/\" title=\"Verbo despedir\">despedir</a></li><li><a href=\"/verbo-despir/\" title=\"Verbo despir\">despir</a></li><li><a href=\"/verbo-despolir/\" title=\"Verbo despolir\">despolir</a></li><li><a href=\"/verbo-despor/\" title=\"Verbo despor\">despor</a></li><li><a href=\"/verbo-desprazer/\" title=\"Verbo desprazer\">desprazer</a></li><li><a href=\"/verbo-desprecaver/\" title=\"Verbo desprecaver\">desprecaver</a></li><li><a href=\"/verbo-desprover/\" title=\"Verbo desprover\">desprover</a></li><li><a href=\"/verbo-desquerer/\" title=\"Verbo desquerer\">desquerer</a></li><li><a href=\"/verbo-dessaber/\" title=\"Verbo dessaber\">dessaber</a></li><li><a href=\"/verbo-destruir/\" title=\"Verbo destruir\">destruir</a></li><li><a href=\"/verbo-desvaler/\" title=\"Verbo desvaler\">desvaler</a></li><li><a href=\"/verbo-desver/\" title=\"Verbo desver\">desver</a></li><li><a href=\"/verbo-deter/\" title=\"Verbo deter\">deter</a></li><li><a href=\"/verbo-devir/\" title=\"Verbo devir\">devir</a></li><li><a href=\"/verbo-diferir/\" title=\"Verbo diferir\">diferir</a></li><li><a href=\"/verbo-digerir/\" title=\"Verbo digerir\">digerir</a></li><li><a href=\"/verbo-disferir/\" title=\"Verbo disferir\">disferir</a></li><li><a href=\"/verbo-disperder/\" title=\"Verbo disperder\">disperder</a></li><li><a href=\"/verbo-dispor/\" title=\"Verbo dispor\">dispor</a></li><li><a href=\"/verbo-distrair/\" title=\"Verbo distrair\">distrair</a></li><li><a href=\"/verbo-divergir/\" title=\"Verbo divergir\">divergir</a></li><li><a href=\"/verbo-divertir/\" title=\"Verbo divertir\">divertir</a></li><li><a href=\"/verbo-dizer/\" title=\"Verbo dizer\">dizer</a></li><li><a href=\"/verbo-dormir/\" title=\"Verbo dormir\">dormir</a></li><li><a href=\"/verbo-embair/\" title=\"Verbo embair\">embair</a></li><li><a href=\"/verbo-emergir/\" title=\"Verbo emergir\">emergir</a></li><li><a href=\"/verbo-encobrir/\" title=\"Verbo encobrir\">encobrir</a></li><li><a href=\"/verbo-engolir/\" title=\"Verbo engolir\">engolir</a></li><li><a href=\"/verbo-entredizer/\" title=\"Verbo entredizer\">entredizer</a></li><li><a href=\"/verbo-entrefazer/\" title=\"Verbo entrefazer\">entrefazer</a></li><li><a href=\"/verbo-entreouvir/\" title=\"Verbo entreouvir\">entreouvir</a></li><li><a href=\"/verbo-entrepor/\" title=\"Verbo entrepor\">entrepor</a></li><li><a href=\"/verbo-entrequerer/\" title=\"Verbo entrequerer\">entrequerer</a></li><li><a href=\"/verbo-entrever/\" title=\"Verbo entrever\">entrever</a></li><li><a href=\"/verbo-entrevir/\" title=\"Verbo entrevir\">entrevir</a></li><li><a href=\"/verbo-entupir/\" title=\"Verbo entupir\">entupir</a></li><li><a href=\"/verbo-enxaguar/\" title=\"Verbo enxaguar\">enxaguar</a></li><li><a href=\"/verbo-enxerir/\" title=\"Verbo enxerir\">enxerir</a></li><li><a href=\"/verbo-equivaler/\" title=\"Verbo equivaler\">equivaler</a></li><li><a href=\"/verbo-escapulir/\" title=\"Verbo escapulir\">escapulir</a></li><li><a href=\"/verbo-esfazer/\" title=\"Verbo esfazer\">esfazer</a></li><li><a href=\"/verbo-estar/\" title=\"Verbo estar\">estar</a></li><li><a href=\"/verbo-estrear/\" title=\"Verbo estrear\">estrear</a></li><li><a href=\"/verbo-esvair/\" title=\"Verbo esvair\">esvair</a></li><li><a href=\"/verbo-expedir/\" title=\"Verbo expedir\">expedir</a></li><li><a href=\"/verbo-expelir/\" title=\"Verbo expelir\">expelir</a></li><li><a href=\"/verbo-expor/\" title=\"Verbo expor\">expor</a></li><li><a href=\"/verbo-extrapor/\" title=\"Verbo extrapor\">extrapor</a></li><li><a href=\"/verbo-fazer/\" title=\"Verbo fazer\">fazer</a></li><li><a href=\"/verbo-ferir/\" title=\"Verbo ferir\">ferir</a></li><li><a href=\"/verbo-flectir/\" title=\"Verbo flectir\">flectir</a></li><li><a href=\"/verbo-fletir/\" title=\"Verbo fletir\">fletir</a></li><li><a href=\"/verbo-fotocompor/\" title=\"Verbo fotocompor\">fotocompor</a></li><li><a href=\"/verbo-fraguar/\" title=\"Verbo fraguar\">fraguar</a></li><li><a href=\"/verbo-frigir/\" title=\"Verbo frigir\">frigir</a></li><li><a href=\"/verbo-fugir/\" title=\"Verbo fugir\">fugir</a></li><li><a href=\"/verbo-gelifazer/\" title=\"Verbo gelifazer\">gelifazer</a></li><li><a href=\"/verbo-gerir/\" title=\"Verbo gerir\">gerir</a></li><li><a href=\"/verbo-haver/\" title=\"Verbo haver\">haver</a></li><li><a href=\"/verbo-idear/\" title=\"Verbo idear\">idear</a></li><li><a href=\"/verbo-imergir/\" title=\"Verbo imergir\">imergir</a></li><li><a href=\"/verbo-impedir/\" title=\"Verbo impedir\">impedir</a></li><li><a href=\"/verbo-impelir/\" title=\"Verbo impelir\">impelir</a></li><li><a href=\"/verbo-impor/\" title=\"Verbo impor\">impor</a></li><li><a href=\"/verbo-incendiar/\" title=\"Verbo incendiar\">incendiar</a></li><li><a href=\"/verbo-indeferir/\" title=\"Verbo indeferir\">indeferir</a></li><li><a href=\"/verbo-indispor/\" title=\"Verbo indispor\">indispor</a></li><li><a href=\"/verbo-inferir/\" title=\"Verbo inferir\">inferir</a></li><li><a href=\"/verbo-influir/\" title=\"Verbo influir\">influir</a></li><li><a href=\"/verbo-ingerir/\" title=\"Verbo ingerir\">ingerir</a></li><li><a href=\"/verbo-insatisfazer/\" title=\"Verbo insatisfazer\">insatisfazer</a></li><li><a href=\"/verbo-inserir/\" title=\"Verbo inserir\">inserir</a></li><li><a href=\"/verbo-interdizer/\" title=\"Verbo interdizer\">interdizer</a></li><li><a href=\"/verbo-intermediar/\" title=\"Verbo intermediar\">intermediar</a></li><li><a href=\"/verbo-interpor/\" title=\"Verbo interpor\">interpor</a></li><li><a href=\"/verbo-interver/\" title=\"Verbo interver\">interver</a></li><li><a href=\"/verbo-intervir/\" title=\"Verbo intervir\">intervir</a></li><li><a href=\"/verbo-investir/\" title=\"Verbo investir\">investir</a></li><li><a href=\"/verbo-ir/\" title=\"Verbo ir\">ir</a></li><li><a href=\"/verbo-jazer/\" title=\"Verbo jazer\">jazer</a></li><li><a href=\"/verbo-justapor/\" title=\"Verbo justapor\">justapor</a></li><li><a href=\"/verbo-ler/\" title=\"Verbo ler\">ler</a></li><li><a href=\"/verbo-liquefazer/\" title=\"Verbo liquefazer\">liquefazer</a></li><li><a href=\"/verbo-maisquerer/\" title=\"Verbo maisquerer\">maisquerer</a></li><li><a href=\"/verbo-maldispor/\" title=\"Verbo maldispor\">maldispor</a></li><li><a href=\"/verbo-maldizer/\" title=\"Verbo maldizer\">maldizer</a></li><li><a href=\"/verbo-malfazer/\" title=\"Verbo malfazer\">malfazer</a></li><li><a href=\"/verbo-malinguar/\" title=\"Verbo malinguar\">malinguar</a></li><li><a href=\"/verbo-malparir/\" title=\"Verbo malparir\">malparir</a></li><li><a href=\"/verbo-malquerer/\" title=\"Verbo malquerer\">malquerer</a></li><li><a href=\"/verbo-manter/\" title=\"Verbo manter\">manter</a></li><li><a href=\"/verbo-mediar/\" title=\"Verbo mediar\">mediar</a></li><li><a href=\"/verbo-medir/\" title=\"Verbo medir\">medir</a></li><li><a href=\"/verbo-mentir/\" title=\"Verbo mentir\">mentir</a></li><li><a href=\"/verbo-minguar/\" title=\"Verbo minguar\">minguar</a></li><li><a href=\"/verbo-obter/\" title=\"Verbo obter\">obter</a></li><li><a href=\"/verbo-obvir/\" title=\"Verbo obvir\">obvir</a></li><li><a href=\"/verbo-odiar/\" title=\"Verbo odiar\">odiar</a></li><li><a href=\"/verbo-opor/\" title=\"Verbo opor\">opor</a></li><li><a href=\"/verbo-ouvir/\" title=\"Verbo ouvir\">ouvir</a></li><li><a href=\"/verbo-parir/\" title=\"Verbo parir\">parir</a></li><li><a href=\"/verbo-pedir/\" title=\"Verbo pedir\">pedir</a></li><li><a href=\"/verbo-perder/\" title=\"Verbo perder\">perder</a></li><li><a href=\"/verbo-perfazer/\" title=\"Verbo perfazer\">perfazer</a></li><li><a href=\"/verbo-perseguir/\" title=\"Verbo perseguir\">perseguir</a></li><li><a href=\"/verbo-persentir/\" title=\"Verbo persentir\">persentir</a></li><li><a href=\"/verbo-pleitear/\" title=\"Verbo pleitear\">pleitear</a></li><li><a href=\"/verbo-poder/\" title=\"Verbo poder\">poder</a></li><li><a href=\"/verbo-poer/\" title=\"Verbo poer\">poer</a></li><li><a href=\"/verbo-polir/\" title=\"Verbo polir\">polir</a></li><li><a href=\"/verbo-pospor/\" title=\"Verbo pospor\">pospor</a></li><li><a href=\"/verbo-por/\" title=\"Verbo pôr\">pôr</a></li><li><a href=\"/verbo-prazer/\" title=\"Verbo prazer\">prazer</a></li><li><a href=\"/verbo-predispor/\" title=\"Verbo predispor\">predispor</a></li><li><a href=\"/verbo-predizer/\" title=\"Verbo predizer\">predizer</a></li><li><a href=\"/verbo-preferir/\" title=\"Verbo preferir\">preferir</a></li><li><a href=\"/verbo-prepor/\" title=\"Verbo prepor\">prepor</a></li><li><a href=\"/verbo-pressentir/\" title=\"Verbo pressentir\">pressentir</a></li><li><a href=\"/verbo-pressupor/\" title=\"Verbo pressupor\">pressupor</a></li><li><a href=\"/verbo-preterir/\" title=\"Verbo preterir\">preterir</a></li><li><a href=\"/verbo-prevenir/\" title=\"Verbo prevenir\">prevenir</a></li><li><a href=\"/verbo-prever/\" title=\"Verbo prever\">prever</a></li><li><a href=\"/verbo-proferir/\" title=\"Verbo proferir\">proferir</a></li><li><a href=\"/verbo-progredir/\" title=\"Verbo progredir\">progredir</a></li><li><a href=\"/verbo-propor/\" title=\"Verbo propor\">propor</a></li><li><a href=\"/verbo-prosseguir/\" title=\"Verbo prosseguir\">prosseguir</a></li><li><a href=\"/verbo-prossupor/\" title=\"Verbo prossupor\">prossupor</a></li><li><a href=\"/verbo-prover/\" title=\"Verbo prover\">prover</a></li><li><a href=\"/verbo-provir/\" title=\"Verbo provir\">provir</a></li><li><a href=\"/verbo-pruir/\" title=\"Verbo pruir\">pruir</a></li><li><a href=\"/verbo-puir/\" title=\"Verbo puir\">puir</a></li><li><a href=\"/verbo-putrefazer/\" title=\"Verbo putrefazer\">putrefazer</a></li><li><a href=\"/verbo-querer/\" title=\"Verbo querer\">querer</a></li><li><a href=\"/verbo-raer/\" title=\"Verbo raer\">raer</a></li><li><a href=\"/verbo-rarefazer/\" title=\"Verbo rarefazer\">rarefazer</a></li><li><a href=\"/verbo-readequar/\" title=\"Verbo readequar\">readequar</a></li><li><a href=\"/verbo-reaver/\" title=\"Verbo reaver\">reaver</a></li><li><a href=\"/verbo-reavir/\" title=\"Verbo reavir\">reavir</a></li><li><a href=\"/verbo-recobrir/\" title=\"Verbo recobrir\">recobrir</a></li><li><a href=\"/verbo-recompor/\" title=\"Verbo recompor\">recompor</a></li><li><a href=\"/verbo-reconvir/\" title=\"Verbo reconvir\">reconvir</a></li><li><a href=\"/verbo-redar/\" title=\"Verbo redar\">redar</a></li><li><a href=\"/verbo-redispor/\" title=\"Verbo redispor\">redispor</a></li><li><a href=\"/verbo-redizer/\" title=\"Verbo redizer\">redizer</a></li><li><a href=\"/verbo-reexpedir/\" title=\"Verbo reexpedir\">reexpedir</a></li><li><a href=\"/verbo-reexpor/\" title=\"Verbo reexpor\">reexpor</a></li><li><a href=\"/verbo-refazer/\" title=\"Verbo refazer\">refazer</a></li><li><a href=\"/verbo-referir/\" title=\"Verbo referir\">referir</a></li><li><a href=\"/verbo-refletir/\" title=\"Verbo refletir\">refletir</a></li><li><a href=\"/verbo-refugir/\" title=\"Verbo refugir\">refugir</a></li><li><a href=\"/verbo-regredir/\" title=\"Verbo regredir\">regredir</a></li><li><a href=\"/verbo-reimpor/\" title=\"Verbo reimpor\">reimpor</a></li><li><a href=\"/verbo-reindispor/\" title=\"Verbo reindispor\">reindispor</a></li><li><a href=\"/verbo-reinserir/\" title=\"Verbo reinserir\">reinserir</a></li><li><a href=\"/verbo-reler/\" title=\"Verbo reler\">reler</a></li><li><a href=\"/verbo-remediar/\" title=\"Verbo remediar\">remediar</a></li><li><a href=\"/verbo-remedir/\" title=\"Verbo remedir\">remedir</a></li><li><a href=\"/verbo-reobter/\" title=\"Verbo reobter\">reobter</a></li><li><a href=\"/verbo-reouvir/\" title=\"Verbo reouvir\">reouvir</a></li><li><a href=\"/verbo-repedir/\" title=\"Verbo repedir\">repedir</a></li><li><a href=\"/verbo-repelir/\" title=\"Verbo repelir\">repelir</a></li><li><a href=\"/verbo-repetir/\" title=\"Verbo repetir\">repetir</a></li><li><a href=\"/verbo-repor/\" title=\"Verbo repor\">repor</a></li><li><a href=\"/verbo-repropor/\" title=\"Verbo repropor\">repropor</a></li><li><a href=\"/verbo-requerer/\" title=\"Verbo requerer\">requerer</a></li><li><a href=\"/verbo-resfolegar/\" title=\"Verbo resfolegar\">resfolegar</a></li><li><a href=\"/verbo-ressentir/\" title=\"Verbo ressentir\">ressentir</a></li><li><a href=\"/verbo-reter/\" title=\"Verbo reter\">reter</a></li><li><a href=\"/verbo-retrair/\" title=\"Verbo retrair\">retrair</a></li><li><a href=\"/verbo-retranspor/\" title=\"Verbo retranspor\">retranspor</a></li><li><a href=\"/verbo-rever/\" title=\"Verbo rever\">rever</a></li><li><a href=\"/verbo-revestir/\" title=\"Verbo revestir\">revestir</a></li><li><a href=\"/verbo-revir/\" title=\"Verbo revir\">revir</a></li><li><a href=\"/verbo-rir/\" title=\"Verbo rir\">rir</a></li><li><a href=\"/verbo-ruir/\" title=\"Verbo ruir\">ruir</a></li><li><a href=\"/verbo-saber/\" title=\"Verbo saber\">saber</a></li><li><a href=\"/verbo-sacudir/\" title=\"Verbo sacudir\">sacudir</a></li><li><a href=\"/verbo-sair/\" title=\"Verbo sair\">sair</a></li><li><a href=\"/verbo-santiguar/\" title=\"Verbo santiguar\">santiguar</a></li><li><a href=\"/verbo-satisfazer/\" title=\"Verbo satisfazer\">satisfazer</a></li><li><a href=\"/verbo-seguir/\" title=\"Verbo seguir\">seguir</a></li><li><a href=\"/verbo-sentir/\" title=\"Verbo sentir\">sentir</a></li><li><a href=\"/verbo-ser/\" title=\"Verbo ser\">ser</a></li><li><a href=\"/verbo-servir/\" title=\"Verbo servir\">servir</a></li><li><a href=\"/verbo-sobpor/\" title=\"Verbo sobpor\">sobpor</a></li><li><a href=\"/verbo-sobre-expor/\" title=\"Verbo sobre-expor\">sobre-expor</a></li><li><a href=\"/verbo-sobreexpor/\" title=\"Verbo sobreexpor\">sobreexpor</a></li><li><a href=\"/verbo-sobrepor/\" title=\"Verbo sobrepor\">sobrepor</a></li><li><a href=\"/verbo-sobrestar/\" title=\"Verbo sobrestar\">sobrestar</a></li><li><a href=\"/verbo-sobrevir/\" title=\"Verbo sobrevir\">sobrevir</a></li><li><a href=\"/verbo-sorrir/\" title=\"Verbo sorrir\">sorrir</a></li><li><a href=\"/verbo-sortear/\" title=\"Verbo sortear\">sortear</a></li><li><a href=\"/verbo-sortir/\" title=\"Verbo sortir\">sortir</a></li><li><a href=\"/verbo-sotopor/\" title=\"Verbo sotopor\">sotopor</a></li><li><a href=\"/verbo-subir/\" title=\"Verbo subir\">subir</a></li><li><a href=\"/verbo-submergir/\" title=\"Verbo submergir\">submergir</a></li><li><a href=\"/verbo-subpor/\" title=\"Verbo subpor\">subpor</a></li><li><a href=\"/verbo-subsumir/\" title=\"Verbo subsumir\">subsumir</a></li><li><a href=\"/verbo-subtrair/\" title=\"Verbo subtrair\">subtrair</a></li><li><a href=\"/verbo-sugerir/\" title=\"Verbo sugerir\">sugerir</a></li><li><a href=\"/verbo-sumir/\" title=\"Verbo sumir\">sumir</a></li><li><a href=\"/verbo-superexpor/\" title=\"Verbo superexpor\">superexpor</a></li><li><a href=\"/verbo-superimpor/\" title=\"Verbo superimpor\">superimpor</a></li><li><a href=\"/verbo-superpor/\" title=\"Verbo superpor\">superpor</a></li><li><a href=\"/verbo-supor/\" title=\"Verbo supor\">supor</a></li><li><a href=\"/verbo-suster/\" title=\"Verbo suster\">suster</a></li><li><a href=\"/verbo-telever/\" title=\"Verbo telever\">telever</a></li><li><a href=\"/verbo-ter/\" title=\"Verbo ter\">ter</a></li><li><a href=\"/verbo-torrefazer/\" title=\"Verbo torrefazer\">torrefazer</a></li><li><a href=\"/verbo-tossir/\" title=\"Verbo tossir\">tossir</a></li><li><a href=\"/verbo-trair/\" title=\"Verbo trair\">trair</a></li><li><a href=\"/verbo-transfazer/\" title=\"Verbo transfazer\">transfazer</a></li><li><a href=\"/verbo-transferir/\" title=\"Verbo transferir\">transferir</a></li><li><a href=\"/verbo-transfugir/\" title=\"Verbo transfugir\">transfugir</a></li><li><a href=\"/verbo-transgredir/\" title=\"Verbo transgredir\">transgredir</a></li><li><a href=\"/verbo-transpor/\" title=\"Verbo transpor\">transpor</a></li><li><a href=\"/verbo-traspor/\" title=\"Verbo traspor\">traspor</a></li><li><a href=\"/verbo-trazer/\" title=\"Verbo trazer\">trazer</a></li><li><a href=\"/verbo-treler/\" title=\"Verbo treler\">treler</a></li><li><a href=\"/verbo-tresler/\" title=\"Verbo tresler\">tresler</a></li><li><a href=\"/verbo-trespor/\" title=\"Verbo trespor\">trespor</a></li><li><a href=\"/verbo-tumefazer/\" title=\"Verbo tumefazer\">tumefazer</a></li><li><a href=\"/verbo-valer/\" title=\"Verbo valer\">valer</a></li><li><a href=\"/verbo-ver/\" title=\"Verbo ver\">ver</a></li><li><a href=\"/verbo-vestir/\" title=\"Verbo vestir\">vestir</a></li><li><a href=\"/verbo-vir/\" title=\"Verbo vir\">vir</a></li>    </ul>\n",
    "</div>'''"
   ]
  },
  {
   "cell_type": "code",
   "execution_count": null,
   "id": "cd727f9f",
   "metadata": {},
   "outputs": [],
   "source": [
    "#extraindo a lista\n",
    "from bs4 import BeautifulSoup as soup\n",
    "\n",
    "_div = soup(irregular_verbs_html, 'html.parser').find('div', {'class':'wrapper'})\n",
    "irregular_verbs = [[i.text for i in b.find_all('li')] for b in _div.find_all('ul')][0]"
   ]
  },
  {
   "cell_type": "code",
   "execution_count": null,
   "id": "6202a2fb",
   "metadata": {},
   "outputs": [],
   "source": [
    "irregular_verbs"
   ]
  },
  {
   "cell_type": "code",
   "execution_count": null,
   "id": "b6cb0147",
   "metadata": {},
   "outputs": [],
   "source": []
  },
  {
   "cell_type": "code",
   "execution_count": null,
   "id": "c4288d87",
   "metadata": {},
   "outputs": [],
   "source": []
  },
  {
   "cell_type": "code",
   "execution_count": null,
   "id": "36ef8f86",
   "metadata": {
    "scrolled": false
   },
   "outputs": [],
   "source": [
    "irregular_verbs[0:5]"
   ]
  },
  {
   "cell_type": "code",
   "execution_count": null,
   "id": "f4a8e599",
   "metadata": {
    "scrolled": true
   },
   "outputs": [],
   "source": [
    "normal_verbs = words_df[~words_df.word.isin(irregular_verbs)]"
   ]
  },
  {
   "cell_type": "code",
   "execution_count": null,
   "id": "f7100084",
   "metadata": {},
   "outputs": [],
   "source": [
    "len(normal_verbs)"
   ]
  },
  {
   "cell_type": "code",
   "execution_count": null,
   "id": "c293c734",
   "metadata": {},
   "outputs": [],
   "source": [
    "normal_verbs"
   ]
  },
  {
   "cell_type": "code",
   "execution_count": null,
   "id": "3a5b7506",
   "metadata": {},
   "outputs": [],
   "source": []
  },
  {
   "cell_type": "code",
   "execution_count": null,
   "id": "4c896659",
   "metadata": {},
   "outputs": [],
   "source": []
  },
  {
   "cell_type": "code",
   "execution_count": null,
   "id": "f323e2f7",
   "metadata": {},
   "outputs": [],
   "source": []
  },
  {
   "cell_type": "code",
   "execution_count": null,
   "id": "8df726f8",
   "metadata": {},
   "outputs": [],
   "source": []
  },
  {
   "cell_type": "code",
   "execution_count": null,
   "id": "494c1998",
   "metadata": {},
   "outputs": [],
   "source": [
    "ganhar - eu ganho, tu ganhas, nos ganhamos \n",
    "bater - eu bato, tu bates \n",
    "entupir - eu entupo, tu etopes"
   ]
  },
  {
   "cell_type": "code",
   "execution_count": null,
   "id": "028b3495",
   "metadata": {},
   "outputs": [],
   "source": [
    "verbs['termina em'] = verbs.ortografiaverbo[-2:]  # separa a terminação do verbo "
   ]
  },
  {
   "cell_type": "code",
   "execution_count": null,
   "id": "0c5b658d",
   "metadata": {},
   "outputs": [],
   "source": [
    "conjuga_ar = ['o', 'as', 'a', 'amos', 'ais', 'am']; \n",
    "conjuga_er = ['o', 'es', 'e', 'emos', 'eis', 'em']; \n",
    "conjuga_ir = ['o', 'es', 'e', 'imos', 'is', 'em']; "
   ]
  },
  {
   "cell_type": "code",
   "execution_count": null,
   "id": "47cd3c34",
   "metadata": {
    "scrolled": true
   },
   "outputs": [],
   "source": [
    "verbs.ortografia"
   ]
  }
 ],
 "metadata": {
  "kernelspec": {
   "display_name": "Python 3 (ipykernel)",
   "language": "python",
   "name": "python3"
  },
  "language_info": {
   "codemirror_mode": {
    "name": "ipython",
    "version": 3
   },
   "file_extension": ".py",
   "mimetype": "text/x-python",
   "name": "python",
   "nbconvert_exporter": "python",
   "pygments_lexer": "ipython3",
   "version": "3.9.12"
  }
 },
 "nbformat": 4,
 "nbformat_minor": 5
}
