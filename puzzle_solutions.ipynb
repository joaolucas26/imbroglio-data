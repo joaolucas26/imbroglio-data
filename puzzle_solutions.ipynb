{
 "cells": [
  {
   "cell_type": "code",
   "execution_count": null,
   "id": "a427b46f",
   "metadata": {},
   "outputs": [],
   "source": [
    "import pandas as pd\n",
    "import json\n",
    "\n",
    "\n",
    "#lendo o JSON \n",
    "f = open('Puzzles/daily_puzzles_6.json') \n",
    "daily_puzzle = json.load(f)\n",
    "f.close()\n",
    "\n",
    "#lendo o JSON LISTA DE PALAVRAS \n",
    "f = open('Words/words.json') \n",
    "words_file = json.load(f)\n",
    "f.close()\n",
    "\n",
    "#criando df com as palavras \n",
    "df = words(words_file)\n",
    "\n",
    "x = is_one_word_solution(df, daily_puzzle)"
   ]
  },
  {
   "cell_type": "code",
   "execution_count": null,
   "id": "5010c0fd",
   "metadata": {},
   "outputs": [],
   "source": [
    "x"
   ]
  },
  {
   "cell_type": "code",
   "execution_count": null,
   "id": "c4dea73f",
   "metadata": {},
   "outputs": [],
   "source": [
    "def is_one_word_solution(df, daily_puzzle):  \n",
    "    \n",
    "    for i in range(len(daily_puzzle)):   \n",
    "        daily_letters= daily_puzzle[i]['letters']\n",
    "        #verificando quais as palavras estão no puzzle do dia\n",
    "        df['is_on_daily_puzzle'] = df.norm_word.apply(lambda x: is_on_daily_puzzle(x, daily_letters))\n",
    "        is_on_daily = df[df.is_on_daily_puzzle == True]\n",
    "        is_on_daily['len'] = is_on_daily.norm_word.apply(lambda x: len(x))\n",
    "        is_on_daily['remaining_letters'] = is_on_daily.norm_word.apply(lambda x: remaining_letters(x, daily_letters))\n",
    "        \n",
    "        if (is_on_daily['remaining_letters'].apply(lambda x: len(x) == 0)).sum() > 0:\n",
    "            return is_on_daily[(is_on_daily['remaining_letters'].apply(lambda x: len(x) == 0))]"
   ]
  },
  {
   "cell_type": "code",
   "execution_count": null,
   "id": "29dd2a41",
   "metadata": {},
   "outputs": [],
   "source": [
    "def words(words_file): \n",
    "    word_list = [] \n",
    "    normalized_word_list = []\n",
    "\n",
    "    for i in range(len(words_file)):\n",
    "        normalized_word_list.append(words_file[i]['normalized'])\n",
    "        word_list.append(words_file[i]['word'])\n",
    "\n",
    "    return pd.DataFrame(index = [normalized_word_list, word_list]).reset_index().rename(columns ={'level_0': 'norm_word', 'level_1': 'word' })"
   ]
  },
  {
   "cell_type": "code",
   "execution_count": null,
   "id": "6d91e419",
   "metadata": {},
   "outputs": [],
   "source": [
    "def is_on_daily_puzzle(norm_word, daily):   \n",
    "    \n",
    "    daily_letter = daily.copy()    \n",
    "    is_in_daily_letters = True\n",
    "    \n",
    "    for letter in norm_word:        \n",
    "        if letter not in daily_letter:\n",
    "            is_in_daily_letters = False\n",
    "            break  \n",
    "        \n",
    "        \n",
    "        else:\n",
    "            daily_letter.remove(letter)\n",
    "            \n",
    "    return is_in_daily_letters   "
   ]
  },
  {
   "cell_type": "code",
   "execution_count": null,
   "id": "8844ee37",
   "metadata": {},
   "outputs": [],
   "source": [
    "def remaining_letters(norm_word, daily):    \n",
    "\n",
    "    daily_letter = daily.copy()\n",
    "    \n",
    "    is_in_daily_letters = True\n",
    "    for letter in norm_word:        \n",
    "        if letter not in daily_letter:\n",
    "            is_in_daily_letters = False\n",
    "            break  \n",
    "        \n",
    "        \n",
    "        else:\n",
    "            daily_letter.remove(letter)\n",
    "     \n",
    "    return daily_letter  "
   ]
  },
  {
   "cell_type": "code",
   "execution_count": null,
   "id": "c8f2fc0b",
   "metadata": {},
   "outputs": [],
   "source": []
  }
 ],
 "metadata": {
  "kernelspec": {
   "display_name": "Python 3 (ipykernel)",
   "language": "python",
   "name": "python3"
  },
  "language_info": {
   "codemirror_mode": {
    "name": "ipython",
    "version": 3
   },
   "file_extension": ".py",
   "mimetype": "text/x-python",
   "name": "python",
   "nbconvert_exporter": "python",
   "pygments_lexer": "ipython3",
   "version": "3.9.12"
  }
 },
 "nbformat": 4,
 "nbformat_minor": 5
}
