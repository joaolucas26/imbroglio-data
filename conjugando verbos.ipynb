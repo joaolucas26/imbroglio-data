{
 "cells": [
  {
   "cell_type": "code",
   "execution_count": null,
   "id": "15ed4475",
   "metadata": {},
   "outputs": [],
   "source": [
    "import json\n",
    "import pandas as pd"
   ]
  },
  {
   "cell_type": "markdown",
   "id": "49fd702b",
   "metadata": {},
   "source": [
    "#### LENDO O JSON"
   ]
  },
  {
   "cell_type": "code",
   "execution_count": null,
   "id": "6de5855d",
   "metadata": {},
   "outputs": [],
   "source": [
    "#lendo o JSON \n",
    "f = open('Data/words.json') \n",
    "words_file = json.load(f)\n",
    "f.close()"
   ]
  },
  {
   "cell_type": "code",
   "execution_count": null,
   "id": "b144bb94",
   "metadata": {},
   "outputs": [],
   "source": [
    "word_list = []\n",
    "normalized_word_list =[]\n",
    "\n",
    "for dic in words_file:\n",
    "    word_list.append(dic['word'])\n",
    "    normalized_word_list.append(dic['normalized'])"
   ]
  },
  {
   "cell_type": "code",
   "execution_count": null,
   "id": "8b9a34eb",
   "metadata": {},
   "outputs": [],
   "source": [
    "dic = {'word': word_list,\n",
    "      'norm_word': normalized_word_list}"
   ]
  },
  {
   "cell_type": "code",
   "execution_count": null,
   "id": "58f6d5f5",
   "metadata": {},
   "outputs": [],
   "source": [
    "words_df = pd.DataFrame(dic, columns =['word', 'norm_word'])"
   ]
  },
  {
   "cell_type": "code",
   "execution_count": null,
   "id": "9a7be533",
   "metadata": {},
   "outputs": [],
   "source": [
    "words_df.head()"
   ]
  },
  {
   "cell_type": "markdown",
   "id": "91cb8746",
   "metadata": {},
   "source": [
    "------------"
   ]
  },
  {
   "cell_type": "markdown",
   "id": "db912ab8",
   "metadata": {},
   "source": [
    "####  - Lendo dicionario completo"
   ]
  },
  {
   "cell_type": "code",
   "execution_count": null,
   "id": "9ba7956e",
   "metadata": {},
   "outputs": [],
   "source": [
    "PATH = 'Data/dicionario/lexporbr_alfa_excel.xlsx'\n",
    "lexico = pd.read_excel(PATH)\n",
    "lexico.head()"
   ]
  },
  {
   "cell_type": "markdown",
   "id": "ead72973",
   "metadata": {},
   "source": [
    "#### tratando verbos irregulares"
   ]
  },
  {
   "cell_type": "code",
   "execution_count": null,
   "id": "0cf85edd",
   "metadata": {},
   "outputs": [],
   "source": [
    "lexico"
   ]
  },
  {
   "cell_type": "code",
   "execution_count": null,
   "id": "256c65ed",
   "metadata": {},
   "outputs": [],
   "source": [
    "#html com lista de verbos irregulares de https://www.conjugacao.com.br/verbos-irregulares/\n",
    "irregular_verbs_html = '''<div class=\"wrapper\">\n",
    "    <ul><li><a href=\"/verbo-abster/\" title=\"Verbo abster\">abster</a></li><li><a href=\"/verbo-acudir/\" title=\"Verbo acudir\">acudir</a></li><li><a href=\"/verbo-adequar/\" title=\"Verbo adequar\">adequar</a></li><li><a href=\"/verbo-aderir/\" title=\"Verbo aderir\">aderir</a></li><li><a href=\"/verbo-adjazer/\" title=\"Verbo adjazer\">adjazer</a></li><li><a href=\"/verbo-advertir/\" title=\"Verbo advertir\">advertir</a></li><li><a href=\"/verbo-advir/\" title=\"Verbo advir\">advir</a></li><li><a href=\"/verbo-afazer/\" title=\"Verbo afazer\">afazer</a></li><li><a href=\"/verbo-aferir/\" title=\"Verbo aferir\">aferir</a></li><li><a href=\"/verbo-agredir/\" title=\"Verbo agredir\">agredir</a></li><li><a href=\"/verbo-ansiar/\" title=\"Verbo ansiar\">ansiar</a></li><li><a href=\"/verbo-antedar/\" title=\"Verbo antedar\">antedar</a></li><li><a href=\"/verbo-antepor/\" title=\"Verbo antepor\">antepor</a></li><li><a href=\"/verbo-antever/\" title=\"Verbo antever\">antever</a></li><li><a href=\"/verbo-apor/\" title=\"Verbo apor\">apor</a></li><li><a href=\"/verbo-aprazer/\" title=\"Verbo aprazer\">aprazer</a></li><li><a href=\"/verbo-apropinquar/\" title=\"Verbo apropinquar\">apropinquar</a></li><li><a href=\"/verbo-aspergir/\" title=\"Verbo aspergir\">aspergir</a></li><li><a href=\"/verbo-assentir/\" title=\"Verbo assentir\">assentir</a></li><li><a href=\"/verbo-ater/\" title=\"Verbo ater\">ater</a></li><li><a href=\"/verbo-atrair/\" title=\"Verbo atrair\">atrair</a></li><li><a href=\"/verbo-atribuir/\" title=\"Verbo atribuir\">atribuir</a></li><li><a href=\"/verbo-auferir/\" title=\"Verbo auferir\">auferir</a></li><li><a href=\"/verbo-autodestruir/\" title=\"Verbo autodestruir\">autodestruir</a></li><li><a href=\"/verbo-avir/\" title=\"Verbo avir\">avir</a></li><li><a href=\"/verbo-bem-dizer/\" title=\"Verbo bem-dizer\">bem-dizer</a></li><li><a href=\"/verbo-bem-fazer/\" title=\"Verbo bem-fazer\">bem-fazer</a></li><li><a href=\"/verbo-bem-querer/\" title=\"Verbo bem-querer\">bem-querer</a></li><li><a href=\"/verbo-bendizer/\" title=\"Verbo bendizer\">bendizer</a></li><li><a href=\"/verbo-benfazer/\" title=\"Verbo benfazer\">benfazer</a></li><li><a href=\"/verbo-benquerer/\" title=\"Verbo benquerer\">benquerer</a></li><li><a href=\"/verbo-buir/\" title=\"Verbo buir\">buir</a></li><li><a href=\"/verbo-bulir/\" title=\"Verbo bulir\">bulir</a></li><li><a href=\"/verbo-caber/\" title=\"Verbo caber\">caber</a></li><li><a href=\"/verbo-cair/\" title=\"Verbo cair\">cair</a></li><li><a href=\"/verbo-cerzir/\" title=\"Verbo cerzir\">cerzir</a></li><li><a href=\"/verbo-circumpor/\" title=\"Verbo circumpor\">circumpor</a></li><li><a href=\"/verbo-circunver/\" title=\"Verbo circunver\">circunver</a></li><li><a href=\"/verbo-cobrir/\" title=\"Verbo cobrir\">cobrir</a></li><li><a href=\"/verbo-compelir/\" title=\"Verbo compelir\">compelir</a></li><li><a href=\"/verbo-competir/\" title=\"Verbo competir\">competir</a></li><li><a href=\"/verbo-compor/\" title=\"Verbo compor\">compor</a></li><li><a href=\"/verbo-comprazer/\" title=\"Verbo comprazer\">comprazer</a></li><li><a href=\"/verbo-concernir/\" title=\"Verbo concernir\">concernir</a></li><li><a href=\"/verbo-concluir/\" title=\"Verbo concluir\">concluir</a></li><li><a href=\"/verbo-condizer/\" title=\"Verbo condizer\">condizer</a></li><li><a href=\"/verbo-conferir/\" title=\"Verbo conferir\">conferir</a></li><li><a href=\"/verbo-confugir/\" title=\"Verbo confugir\">confugir</a></li><li><a href=\"/verbo-conseguir/\" title=\"Verbo conseguir\">conseguir</a></li><li><a href=\"/verbo-consentir/\" title=\"Verbo consentir\">consentir</a></li><li><a href=\"/verbo-construir/\" title=\"Verbo construir\">construir</a></li><li><a href=\"/verbo-consumir/\" title=\"Verbo consumir\">consumir</a></li><li><a href=\"/verbo-conter/\" title=\"Verbo conter\">conter</a></li><li><a href=\"/verbo-contradizer/\" title=\"Verbo contradizer\">contradizer</a></li><li><a href=\"/verbo-contrafazer/\" title=\"Verbo contrafazer\">contrafazer</a></li><li><a href=\"/verbo-contrair/\" title=\"Verbo contrair\">contrair</a></li><li><a href=\"/verbo-contrapor/\" title=\"Verbo contrapor\">contrapor</a></li><li><a href=\"/verbo-contrapropor/\" title=\"Verbo contrapropor\">contrapropor</a></li><li><a href=\"/verbo-contravir/\" title=\"Verbo contravir\">contravir</a></li><li><a href=\"/verbo-convergir/\" title=\"Verbo convergir\">convergir</a></li><li><a href=\"/verbo-convir/\" title=\"Verbo convir\">convir</a></li><li><a href=\"/verbo-crer/\" title=\"Verbo crer\">crer</a></li><li><a href=\"/verbo-cuspir/\" title=\"Verbo cuspir\">cuspir</a></li><li><a href=\"/verbo-dar/\" title=\"Verbo dar\">dar</a></li><li><a href=\"/verbo-decompor/\" title=\"Verbo decompor\">decompor</a></li><li><a href=\"/verbo-deferir/\" title=\"Verbo deferir\">deferir</a></li><li><a href=\"/verbo-delinquir/\" title=\"Verbo delinquir\">delinquir</a></li><li><a href=\"/verbo-denegrir/\" title=\"Verbo denegrir\">denegrir</a></li><li><a href=\"/verbo-depor/\" title=\"Verbo depor\">depor</a></li><li><a href=\"/verbo-desafazer/\" title=\"Verbo desafazer\">desafazer</a></li><li><a href=\"/verbo-desaguar/\" title=\"Verbo desaguar\">desaguar</a></li><li><a href=\"/verbo-desapor/\" title=\"Verbo desapor\">desapor</a></li><li><a href=\"/verbo-desaprazer/\" title=\"Verbo desaprazer\">desaprazer</a></li><li><a href=\"/verbo-desavir/\" title=\"Verbo desavir\">desavir</a></li><li><a href=\"/verbo-descaber/\" title=\"Verbo descaber\">descaber</a></li><li><a href=\"/verbo-descobrir/\" title=\"Verbo descobrir\">descobrir</a></li><li><a href=\"/verbo-descompor/\" title=\"Verbo descompor\">descompor</a></li><li><a href=\"/verbo-descomprazer/\" title=\"Verbo descomprazer\">descomprazer</a></li><li><a href=\"/verbo-desconstruir/\" title=\"Verbo desconstruir\">desconstruir</a></li><li><a href=\"/verbo-desconvir/\" title=\"Verbo desconvir\">desconvir</a></li><li><a href=\"/verbo-descrer/\" title=\"Verbo descrer\">descrer</a></li><li><a href=\"/verbo-desdar/\" title=\"Verbo desdar\">desdar</a></li><li><a href=\"/verbo-desdizer/\" title=\"Verbo desdizer\">desdizer</a></li><li><a href=\"/verbo-desimpedir/\" title=\"Verbo desimpedir\">desimpedir</a></li><li><a href=\"/verbo-desimpor/\" title=\"Verbo desimpor\">desimpor</a></li><li><a href=\"/verbo-deslinguar/\" title=\"Verbo deslinguar\">deslinguar</a></li><li><a href=\"/verbo-desmedir/\" title=\"Verbo desmedir\">desmedir</a></li><li><a href=\"/verbo-desmentir/\" title=\"Verbo desmentir\">desmentir</a></li><li><a href=\"/verbo-desmobiliar/\" title=\"Verbo desmobiliar\">desmobiliar</a></li><li><a href=\"/verbo-despedir/\" title=\"Verbo despedir\">despedir</a></li><li><a href=\"/verbo-despir/\" title=\"Verbo despir\">despir</a></li><li><a href=\"/verbo-despolir/\" title=\"Verbo despolir\">despolir</a></li><li><a href=\"/verbo-despor/\" title=\"Verbo despor\">despor</a></li><li><a href=\"/verbo-desprazer/\" title=\"Verbo desprazer\">desprazer</a></li><li><a href=\"/verbo-desprecaver/\" title=\"Verbo desprecaver\">desprecaver</a></li><li><a href=\"/verbo-desprover/\" title=\"Verbo desprover\">desprover</a></li><li><a href=\"/verbo-desquerer/\" title=\"Verbo desquerer\">desquerer</a></li><li><a href=\"/verbo-dessaber/\" title=\"Verbo dessaber\">dessaber</a></li><li><a href=\"/verbo-destruir/\" title=\"Verbo destruir\">destruir</a></li><li><a href=\"/verbo-desvaler/\" title=\"Verbo desvaler\">desvaler</a></li><li><a href=\"/verbo-desver/\" title=\"Verbo desver\">desver</a></li><li><a href=\"/verbo-deter/\" title=\"Verbo deter\">deter</a></li><li><a href=\"/verbo-devir/\" title=\"Verbo devir\">devir</a></li><li><a href=\"/verbo-diferir/\" title=\"Verbo diferir\">diferir</a></li><li><a href=\"/verbo-digerir/\" title=\"Verbo digerir\">digerir</a></li><li><a href=\"/verbo-disferir/\" title=\"Verbo disferir\">disferir</a></li><li><a href=\"/verbo-disperder/\" title=\"Verbo disperder\">disperder</a></li><li><a href=\"/verbo-dispor/\" title=\"Verbo dispor\">dispor</a></li><li><a href=\"/verbo-distrair/\" title=\"Verbo distrair\">distrair</a></li><li><a href=\"/verbo-divergir/\" title=\"Verbo divergir\">divergir</a></li><li><a href=\"/verbo-divertir/\" title=\"Verbo divertir\">divertir</a></li><li><a href=\"/verbo-dizer/\" title=\"Verbo dizer\">dizer</a></li><li><a href=\"/verbo-dormir/\" title=\"Verbo dormir\">dormir</a></li><li><a href=\"/verbo-embair/\" title=\"Verbo embair\">embair</a></li><li><a href=\"/verbo-emergir/\" title=\"Verbo emergir\">emergir</a></li><li><a href=\"/verbo-encobrir/\" title=\"Verbo encobrir\">encobrir</a></li><li><a href=\"/verbo-engolir/\" title=\"Verbo engolir\">engolir</a></li><li><a href=\"/verbo-entredizer/\" title=\"Verbo entredizer\">entredizer</a></li><li><a href=\"/verbo-entrefazer/\" title=\"Verbo entrefazer\">entrefazer</a></li><li><a href=\"/verbo-entreouvir/\" title=\"Verbo entreouvir\">entreouvir</a></li><li><a href=\"/verbo-entrepor/\" title=\"Verbo entrepor\">entrepor</a></li><li><a href=\"/verbo-entrequerer/\" title=\"Verbo entrequerer\">entrequerer</a></li><li><a href=\"/verbo-entrever/\" title=\"Verbo entrever\">entrever</a></li><li><a href=\"/verbo-entrevir/\" title=\"Verbo entrevir\">entrevir</a></li><li><a href=\"/verbo-entupir/\" title=\"Verbo entupir\">entupir</a></li><li><a href=\"/verbo-enxaguar/\" title=\"Verbo enxaguar\">enxaguar</a></li><li><a href=\"/verbo-enxerir/\" title=\"Verbo enxerir\">enxerir</a></li><li><a href=\"/verbo-equivaler/\" title=\"Verbo equivaler\">equivaler</a></li><li><a href=\"/verbo-escapulir/\" title=\"Verbo escapulir\">escapulir</a></li><li><a href=\"/verbo-esfazer/\" title=\"Verbo esfazer\">esfazer</a></li><li><a href=\"/verbo-estar/\" title=\"Verbo estar\">estar</a></li><li><a href=\"/verbo-estrear/\" title=\"Verbo estrear\">estrear</a></li><li><a href=\"/verbo-esvair/\" title=\"Verbo esvair\">esvair</a></li><li><a href=\"/verbo-expedir/\" title=\"Verbo expedir\">expedir</a></li><li><a href=\"/verbo-expelir/\" title=\"Verbo expelir\">expelir</a></li><li><a href=\"/verbo-expor/\" title=\"Verbo expor\">expor</a></li><li><a href=\"/verbo-extrapor/\" title=\"Verbo extrapor\">extrapor</a></li><li><a href=\"/verbo-fazer/\" title=\"Verbo fazer\">fazer</a></li><li><a href=\"/verbo-ferir/\" title=\"Verbo ferir\">ferir</a></li><li><a href=\"/verbo-flectir/\" title=\"Verbo flectir\">flectir</a></li><li><a href=\"/verbo-fletir/\" title=\"Verbo fletir\">fletir</a></li><li><a href=\"/verbo-fotocompor/\" title=\"Verbo fotocompor\">fotocompor</a></li><li><a href=\"/verbo-fraguar/\" title=\"Verbo fraguar\">fraguar</a></li><li><a href=\"/verbo-frigir/\" title=\"Verbo frigir\">frigir</a></li><li><a href=\"/verbo-fugir/\" title=\"Verbo fugir\">fugir</a></li><li><a href=\"/verbo-gelifazer/\" title=\"Verbo gelifazer\">gelifazer</a></li><li><a href=\"/verbo-gerir/\" title=\"Verbo gerir\">gerir</a></li><li><a href=\"/verbo-haver/\" title=\"Verbo haver\">haver</a></li><li><a href=\"/verbo-idear/\" title=\"Verbo idear\">idear</a></li><li><a href=\"/verbo-imergir/\" title=\"Verbo imergir\">imergir</a></li><li><a href=\"/verbo-impedir/\" title=\"Verbo impedir\">impedir</a></li><li><a href=\"/verbo-impelir/\" title=\"Verbo impelir\">impelir</a></li><li><a href=\"/verbo-impor/\" title=\"Verbo impor\">impor</a></li><li><a href=\"/verbo-incendiar/\" title=\"Verbo incendiar\">incendiar</a></li><li><a href=\"/verbo-indeferir/\" title=\"Verbo indeferir\">indeferir</a></li><li><a href=\"/verbo-indispor/\" title=\"Verbo indispor\">indispor</a></li><li><a href=\"/verbo-inferir/\" title=\"Verbo inferir\">inferir</a></li><li><a href=\"/verbo-influir/\" title=\"Verbo influir\">influir</a></li><li><a href=\"/verbo-ingerir/\" title=\"Verbo ingerir\">ingerir</a></li><li><a href=\"/verbo-insatisfazer/\" title=\"Verbo insatisfazer\">insatisfazer</a></li><li><a href=\"/verbo-inserir/\" title=\"Verbo inserir\">inserir</a></li><li><a href=\"/verbo-interdizer/\" title=\"Verbo interdizer\">interdizer</a></li><li><a href=\"/verbo-intermediar/\" title=\"Verbo intermediar\">intermediar</a></li><li><a href=\"/verbo-interpor/\" title=\"Verbo interpor\">interpor</a></li><li><a href=\"/verbo-interver/\" title=\"Verbo interver\">interver</a></li><li><a href=\"/verbo-intervir/\" title=\"Verbo intervir\">intervir</a></li><li><a href=\"/verbo-investir/\" title=\"Verbo investir\">investir</a></li><li><a href=\"/verbo-ir/\" title=\"Verbo ir\">ir</a></li><li><a href=\"/verbo-jazer/\" title=\"Verbo jazer\">jazer</a></li><li><a href=\"/verbo-justapor/\" title=\"Verbo justapor\">justapor</a></li><li><a href=\"/verbo-ler/\" title=\"Verbo ler\">ler</a></li><li><a href=\"/verbo-liquefazer/\" title=\"Verbo liquefazer\">liquefazer</a></li><li><a href=\"/verbo-maisquerer/\" title=\"Verbo maisquerer\">maisquerer</a></li><li><a href=\"/verbo-maldispor/\" title=\"Verbo maldispor\">maldispor</a></li><li><a href=\"/verbo-maldizer/\" title=\"Verbo maldizer\">maldizer</a></li><li><a href=\"/verbo-malfazer/\" title=\"Verbo malfazer\">malfazer</a></li><li><a href=\"/verbo-malinguar/\" title=\"Verbo malinguar\">malinguar</a></li><li><a href=\"/verbo-malparir/\" title=\"Verbo malparir\">malparir</a></li><li><a href=\"/verbo-malquerer/\" title=\"Verbo malquerer\">malquerer</a></li><li><a href=\"/verbo-manter/\" title=\"Verbo manter\">manter</a></li><li><a href=\"/verbo-mediar/\" title=\"Verbo mediar\">mediar</a></li><li><a href=\"/verbo-medir/\" title=\"Verbo medir\">medir</a></li><li><a href=\"/verbo-mentir/\" title=\"Verbo mentir\">mentir</a></li><li><a href=\"/verbo-minguar/\" title=\"Verbo minguar\">minguar</a></li><li><a href=\"/verbo-obter/\" title=\"Verbo obter\">obter</a></li><li><a href=\"/verbo-obvir/\" title=\"Verbo obvir\">obvir</a></li><li><a href=\"/verbo-odiar/\" title=\"Verbo odiar\">odiar</a></li><li><a href=\"/verbo-opor/\" title=\"Verbo opor\">opor</a></li><li><a href=\"/verbo-ouvir/\" title=\"Verbo ouvir\">ouvir</a></li><li><a href=\"/verbo-parir/\" title=\"Verbo parir\">parir</a></li><li><a href=\"/verbo-pedir/\" title=\"Verbo pedir\">pedir</a></li><li><a href=\"/verbo-perder/\" title=\"Verbo perder\">perder</a></li><li><a href=\"/verbo-perfazer/\" title=\"Verbo perfazer\">perfazer</a></li><li><a href=\"/verbo-perseguir/\" title=\"Verbo perseguir\">perseguir</a></li><li><a href=\"/verbo-persentir/\" title=\"Verbo persentir\">persentir</a></li><li><a href=\"/verbo-pleitear/\" title=\"Verbo pleitear\">pleitear</a></li><li><a href=\"/verbo-poder/\" title=\"Verbo poder\">poder</a></li><li><a href=\"/verbo-poer/\" title=\"Verbo poer\">poer</a></li><li><a href=\"/verbo-polir/\" title=\"Verbo polir\">polir</a></li><li><a href=\"/verbo-pospor/\" title=\"Verbo pospor\">pospor</a></li><li><a href=\"/verbo-por/\" title=\"Verbo pôr\">pôr</a></li><li><a href=\"/verbo-prazer/\" title=\"Verbo prazer\">prazer</a></li><li><a href=\"/verbo-predispor/\" title=\"Verbo predispor\">predispor</a></li><li><a href=\"/verbo-predizer/\" title=\"Verbo predizer\">predizer</a></li><li><a href=\"/verbo-preferir/\" title=\"Verbo preferir\">preferir</a></li><li><a href=\"/verbo-prepor/\" title=\"Verbo prepor\">prepor</a></li><li><a href=\"/verbo-pressentir/\" title=\"Verbo pressentir\">pressentir</a></li><li><a href=\"/verbo-pressupor/\" title=\"Verbo pressupor\">pressupor</a></li><li><a href=\"/verbo-preterir/\" title=\"Verbo preterir\">preterir</a></li><li><a href=\"/verbo-prevenir/\" title=\"Verbo prevenir\">prevenir</a></li><li><a href=\"/verbo-prever/\" title=\"Verbo prever\">prever</a></li><li><a href=\"/verbo-proferir/\" title=\"Verbo proferir\">proferir</a></li><li><a href=\"/verbo-progredir/\" title=\"Verbo progredir\">progredir</a></li><li><a href=\"/verbo-propor/\" title=\"Verbo propor\">propor</a></li><li><a href=\"/verbo-prosseguir/\" title=\"Verbo prosseguir\">prosseguir</a></li><li><a href=\"/verbo-prossupor/\" title=\"Verbo prossupor\">prossupor</a></li><li><a href=\"/verbo-prover/\" title=\"Verbo prover\">prover</a></li><li><a href=\"/verbo-provir/\" title=\"Verbo provir\">provir</a></li><li><a href=\"/verbo-pruir/\" title=\"Verbo pruir\">pruir</a></li><li><a href=\"/verbo-puir/\" title=\"Verbo puir\">puir</a></li><li><a href=\"/verbo-putrefazer/\" title=\"Verbo putrefazer\">putrefazer</a></li><li><a href=\"/verbo-querer/\" title=\"Verbo querer\">querer</a></li><li><a href=\"/verbo-raer/\" title=\"Verbo raer\">raer</a></li><li><a href=\"/verbo-rarefazer/\" title=\"Verbo rarefazer\">rarefazer</a></li><li><a href=\"/verbo-readequar/\" title=\"Verbo readequar\">readequar</a></li><li><a href=\"/verbo-reaver/\" title=\"Verbo reaver\">reaver</a></li><li><a href=\"/verbo-reavir/\" title=\"Verbo reavir\">reavir</a></li><li><a href=\"/verbo-recobrir/\" title=\"Verbo recobrir\">recobrir</a></li><li><a href=\"/verbo-recompor/\" title=\"Verbo recompor\">recompor</a></li><li><a href=\"/verbo-reconvir/\" title=\"Verbo reconvir\">reconvir</a></li><li><a href=\"/verbo-redar/\" title=\"Verbo redar\">redar</a></li><li><a href=\"/verbo-redispor/\" title=\"Verbo redispor\">redispor</a></li><li><a href=\"/verbo-redizer/\" title=\"Verbo redizer\">redizer</a></li><li><a href=\"/verbo-reexpedir/\" title=\"Verbo reexpedir\">reexpedir</a></li><li><a href=\"/verbo-reexpor/\" title=\"Verbo reexpor\">reexpor</a></li><li><a href=\"/verbo-refazer/\" title=\"Verbo refazer\">refazer</a></li><li><a href=\"/verbo-referir/\" title=\"Verbo referir\">referir</a></li><li><a href=\"/verbo-refletir/\" title=\"Verbo refletir\">refletir</a></li><li><a href=\"/verbo-refugir/\" title=\"Verbo refugir\">refugir</a></li><li><a href=\"/verbo-regredir/\" title=\"Verbo regredir\">regredir</a></li><li><a href=\"/verbo-reimpor/\" title=\"Verbo reimpor\">reimpor</a></li><li><a href=\"/verbo-reindispor/\" title=\"Verbo reindispor\">reindispor</a></li><li><a href=\"/verbo-reinserir/\" title=\"Verbo reinserir\">reinserir</a></li><li><a href=\"/verbo-reler/\" title=\"Verbo reler\">reler</a></li><li><a href=\"/verbo-remediar/\" title=\"Verbo remediar\">remediar</a></li><li><a href=\"/verbo-remedir/\" title=\"Verbo remedir\">remedir</a></li><li><a href=\"/verbo-reobter/\" title=\"Verbo reobter\">reobter</a></li><li><a href=\"/verbo-reouvir/\" title=\"Verbo reouvir\">reouvir</a></li><li><a href=\"/verbo-repedir/\" title=\"Verbo repedir\">repedir</a></li><li><a href=\"/verbo-repelir/\" title=\"Verbo repelir\">repelir</a></li><li><a href=\"/verbo-repetir/\" title=\"Verbo repetir\">repetir</a></li><li><a href=\"/verbo-repor/\" title=\"Verbo repor\">repor</a></li><li><a href=\"/verbo-repropor/\" title=\"Verbo repropor\">repropor</a></li><li><a href=\"/verbo-requerer/\" title=\"Verbo requerer\">requerer</a></li><li><a href=\"/verbo-resfolegar/\" title=\"Verbo resfolegar\">resfolegar</a></li><li><a href=\"/verbo-ressentir/\" title=\"Verbo ressentir\">ressentir</a></li><li><a href=\"/verbo-reter/\" title=\"Verbo reter\">reter</a></li><li><a href=\"/verbo-retrair/\" title=\"Verbo retrair\">retrair</a></li><li><a href=\"/verbo-retranspor/\" title=\"Verbo retranspor\">retranspor</a></li><li><a href=\"/verbo-rever/\" title=\"Verbo rever\">rever</a></li><li><a href=\"/verbo-revestir/\" title=\"Verbo revestir\">revestir</a></li><li><a href=\"/verbo-revir/\" title=\"Verbo revir\">revir</a></li><li><a href=\"/verbo-rir/\" title=\"Verbo rir\">rir</a></li><li><a href=\"/verbo-ruir/\" title=\"Verbo ruir\">ruir</a></li><li><a href=\"/verbo-saber/\" title=\"Verbo saber\">saber</a></li><li><a href=\"/verbo-sacudir/\" title=\"Verbo sacudir\">sacudir</a></li><li><a href=\"/verbo-sair/\" title=\"Verbo sair\">sair</a></li><li><a href=\"/verbo-santiguar/\" title=\"Verbo santiguar\">santiguar</a></li><li><a href=\"/verbo-satisfazer/\" title=\"Verbo satisfazer\">satisfazer</a></li><li><a href=\"/verbo-seguir/\" title=\"Verbo seguir\">seguir</a></li><li><a href=\"/verbo-sentir/\" title=\"Verbo sentir\">sentir</a></li><li><a href=\"/verbo-ser/\" title=\"Verbo ser\">ser</a></li><li><a href=\"/verbo-servir/\" title=\"Verbo servir\">servir</a></li><li><a href=\"/verbo-sobpor/\" title=\"Verbo sobpor\">sobpor</a></li><li><a href=\"/verbo-sobre-expor/\" title=\"Verbo sobre-expor\">sobre-expor</a></li><li><a href=\"/verbo-sobreexpor/\" title=\"Verbo sobreexpor\">sobreexpor</a></li><li><a href=\"/verbo-sobrepor/\" title=\"Verbo sobrepor\">sobrepor</a></li><li><a href=\"/verbo-sobrestar/\" title=\"Verbo sobrestar\">sobrestar</a></li><li><a href=\"/verbo-sobrevir/\" title=\"Verbo sobrevir\">sobrevir</a></li><li><a href=\"/verbo-sorrir/\" title=\"Verbo sorrir\">sorrir</a></li><li><a href=\"/verbo-sortear/\" title=\"Verbo sortear\">sortear</a></li><li><a href=\"/verbo-sortir/\" title=\"Verbo sortir\">sortir</a></li><li><a href=\"/verbo-sotopor/\" title=\"Verbo sotopor\">sotopor</a></li><li><a href=\"/verbo-subir/\" title=\"Verbo subir\">subir</a></li><li><a href=\"/verbo-submergir/\" title=\"Verbo submergir\">submergir</a></li><li><a href=\"/verbo-subpor/\" title=\"Verbo subpor\">subpor</a></li><li><a href=\"/verbo-subsumir/\" title=\"Verbo subsumir\">subsumir</a></li><li><a href=\"/verbo-subtrair/\" title=\"Verbo subtrair\">subtrair</a></li><li><a href=\"/verbo-sugerir/\" title=\"Verbo sugerir\">sugerir</a></li><li><a href=\"/verbo-sumir/\" title=\"Verbo sumir\">sumir</a></li><li><a href=\"/verbo-superexpor/\" title=\"Verbo superexpor\">superexpor</a></li><li><a href=\"/verbo-superimpor/\" title=\"Verbo superimpor\">superimpor</a></li><li><a href=\"/verbo-superpor/\" title=\"Verbo superpor\">superpor</a></li><li><a href=\"/verbo-supor/\" title=\"Verbo supor\">supor</a></li><li><a href=\"/verbo-suster/\" title=\"Verbo suster\">suster</a></li><li><a href=\"/verbo-telever/\" title=\"Verbo telever\">telever</a></li><li><a href=\"/verbo-ter/\" title=\"Verbo ter\">ter</a></li><li><a href=\"/verbo-torrefazer/\" title=\"Verbo torrefazer\">torrefazer</a></li><li><a href=\"/verbo-tossir/\" title=\"Verbo tossir\">tossir</a></li><li><a href=\"/verbo-trair/\" title=\"Verbo trair\">trair</a></li><li><a href=\"/verbo-transfazer/\" title=\"Verbo transfazer\">transfazer</a></li><li><a href=\"/verbo-transferir/\" title=\"Verbo transferir\">transferir</a></li><li><a href=\"/verbo-transfugir/\" title=\"Verbo transfugir\">transfugir</a></li><li><a href=\"/verbo-transgredir/\" title=\"Verbo transgredir\">transgredir</a></li><li><a href=\"/verbo-transpor/\" title=\"Verbo transpor\">transpor</a></li><li><a href=\"/verbo-traspor/\" title=\"Verbo traspor\">traspor</a></li><li><a href=\"/verbo-trazer/\" title=\"Verbo trazer\">trazer</a></li><li><a href=\"/verbo-treler/\" title=\"Verbo treler\">treler</a></li><li><a href=\"/verbo-tresler/\" title=\"Verbo tresler\">tresler</a></li><li><a href=\"/verbo-trespor/\" title=\"Verbo trespor\">trespor</a></li><li><a href=\"/verbo-tumefazer/\" title=\"Verbo tumefazer\">tumefazer</a></li><li><a href=\"/verbo-valer/\" title=\"Verbo valer\">valer</a></li><li><a href=\"/verbo-ver/\" title=\"Verbo ver\">ver</a></li><li><a href=\"/verbo-vestir/\" title=\"Verbo vestir\">vestir</a></li><li><a href=\"/verbo-vir/\" title=\"Verbo vir\">vir</a></li>    </ul>\n",
    "</div>'''"
   ]
  },
  {
   "cell_type": "code",
   "execution_count": null,
   "id": "cd727f9f",
   "metadata": {},
   "outputs": [],
   "source": [
    "#extraindo a lista\n",
    "from bs4 import BeautifulSoup as soup\n",
    "\n",
    "_div = soup(irregular_verbs_html, 'html.parser').find('div', {'class':'wrapper'})\n",
    "irregular_verbs = [[i.text for i in b.find_all('li')] for b in _div.find_all('ul')][0]"
   ]
  },
  {
   "cell_type": "code",
   "execution_count": null,
   "id": "6202a2fb",
   "metadata": {},
   "outputs": [],
   "source": [
    "irregular_verbs"
   ]
  },
  {
   "cell_type": "code",
   "execution_count": null,
   "id": "b6cb0147",
   "metadata": {},
   "outputs": [],
   "source": []
  },
  {
   "cell_type": "code",
   "execution_count": null,
   "id": "c4288d87",
   "metadata": {},
   "outputs": [],
   "source": []
  },
  {
   "cell_type": "code",
   "execution_count": null,
   "id": "36ef8f86",
   "metadata": {
    "scrolled": false
   },
   "outputs": [],
   "source": [
    "irregular_verbs[0:5]"
   ]
  },
  {
   "cell_type": "code",
   "execution_count": null,
   "id": "f4a8e599",
   "metadata": {
    "scrolled": true
   },
   "outputs": [],
   "source": [
    "normal_verbs = words_df[~words_df.word.isin(irregular_verbs)]"
   ]
  },
  {
   "cell_type": "code",
   "execution_count": null,
   "id": "f7100084",
   "metadata": {},
   "outputs": [],
   "source": [
    "len(normal_verbs)"
   ]
  },
  {
   "cell_type": "code",
   "execution_count": null,
   "id": "c293c734",
   "metadata": {},
   "outputs": [],
   "source": [
    "normal_verbs"
   ]
  },
  {
   "cell_type": "code",
   "execution_count": null,
   "id": "3a5b7506",
   "metadata": {},
   "outputs": [],
   "source": []
  },
  {
   "cell_type": "code",
   "execution_count": null,
   "id": "4c896659",
   "metadata": {},
   "outputs": [],
   "source": []
  },
  {
   "cell_type": "code",
   "execution_count": null,
   "id": "f323e2f7",
   "metadata": {},
   "outputs": [],
   "source": []
  },
  {
   "cell_type": "code",
   "execution_count": null,
   "id": "8df726f8",
   "metadata": {},
   "outputs": [],
   "source": []
  },
  {
   "cell_type": "code",
   "execution_count": null,
   "id": "494c1998",
   "metadata": {},
   "outputs": [],
   "source": [
    "ganhar - eu ganho, tu ganhas, nos ganhamos \n",
    "bater - eu bato, tu bates \n",
    "entupir - eu entupo, tu etopes"
   ]
  },
  {
   "cell_type": "code",
   "execution_count": null,
   "id": "028b3495",
   "metadata": {},
   "outputs": [],
   "source": [
    "verbs['termina em'] = verbs.ortografiaverbo[-2:]  # separa a terminação do verbo "
   ]
  },
  {
   "cell_type": "code",
   "execution_count": null,
   "id": "0c5b658d",
   "metadata": {},
   "outputs": [],
   "source": [
    "conjuga_ar = ['o', 'as', 'a', 'amos', 'ais', 'am']; \n",
    "conjuga_er = ['o', 'es', 'e', 'emos', 'eis', 'em']; \n",
    "conjuga_ir = ['o', 'es', 'e', 'imos', 'is', 'em']; "
   ]
  },
  {
   "cell_type": "code",
   "execution_count": null,
   "id": "47cd3c34",
   "metadata": {
    "scrolled": true
   },
   "outputs": [],
   "source": [
    "verbs.ortografia"
   ]
  },
  {
   "cell_type": "code",
   "execution_count": null,
   "id": "c04a05cc",
   "metadata": {},
   "outputs": [],
   "source": []
  }
 ],
 "metadata": {
  "kernelspec": {
   "display_name": "Python 3 (ipykernel)",
   "language": "python",
   "name": "python3"
  },
  "language_info": {
   "codemirror_mode": {
    "name": "ipython",
    "version": 3
   },
   "file_extension": ".py",
   "mimetype": "text/x-python",
   "name": "python",
   "nbconvert_exporter": "python",
   "pygments_lexer": "ipython3",
   "version": "3.9.12"
  }
 },
 "nbformat": 4,
 "nbformat_minor": 5
}
