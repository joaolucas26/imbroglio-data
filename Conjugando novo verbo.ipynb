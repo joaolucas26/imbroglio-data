{
 "cells": [
  {
   "cell_type": "markdown",
   "id": "0d1ca525",
   "metadata": {},
   "source": [
    "este notebook tem como objetivo realizar a conjugação de um verno regular. \n",
    "Verifique as saidas de cada celula antes de salvar e substituir o json original"
   ]
  },
  {
   "cell_type": "code",
   "execution_count": null,
   "id": "8f39bf62",
   "metadata": {},
   "outputs": [],
   "source": []
  },
  {
   "cell_type": "code",
   "execution_count": 1,
   "id": "4de59088",
   "metadata": {},
   "outputs": [],
   "source": [
    "verbo = 'dormir'"
   ]
  },
  {
   "cell_type": "code",
   "execution_count": 2,
   "id": "ed3834c1",
   "metadata": {},
   "outputs": [],
   "source": [
    "import json\n",
    "import pandas as pd\n",
    "import numpy as np"
   ]
  },
  {
   "cell_type": "code",
   "execution_count": 3,
   "id": "69452d31",
   "metadata": {},
   "outputs": [],
   "source": [
    "#lendo o JSON \n",
    "f = open('Data/words.json') \n",
    "words_file = json.load(f)\n",
    "f.close()"
   ]
  },
  {
   "cell_type": "code",
   "execution_count": 4,
   "id": "c1c5a8bc",
   "metadata": {},
   "outputs": [
    {
     "data": {
      "text/html": [
       "<div>\n",
       "<style scoped>\n",
       "    .dataframe tbody tr th:only-of-type {\n",
       "        vertical-align: middle;\n",
       "    }\n",
       "\n",
       "    .dataframe tbody tr th {\n",
       "        vertical-align: top;\n",
       "    }\n",
       "\n",
       "    .dataframe thead th {\n",
       "        text-align: right;\n",
       "    }\n",
       "</style>\n",
       "<table border=\"1\" class=\"dataframe\">\n",
       "  <thead>\n",
       "    <tr style=\"text-align: right;\">\n",
       "      <th></th>\n",
       "      <th>word</th>\n",
       "      <th>norm_word</th>\n",
       "    </tr>\n",
       "  </thead>\n",
       "  <tbody>\n",
       "    <tr>\n",
       "      <th>0</th>\n",
       "      <td>que</td>\n",
       "      <td>que</td>\n",
       "    </tr>\n",
       "    <tr>\n",
       "      <th>1</th>\n",
       "      <td>para</td>\n",
       "      <td>para</td>\n",
       "    </tr>\n",
       "    <tr>\n",
       "      <th>2</th>\n",
       "      <td>com</td>\n",
       "      <td>com</td>\n",
       "    </tr>\n",
       "    <tr>\n",
       "      <th>3</th>\n",
       "      <td>não</td>\n",
       "      <td>nao</td>\n",
       "    </tr>\n",
       "    <tr>\n",
       "      <th>4</th>\n",
       "      <td>uma</td>\n",
       "      <td>uma</td>\n",
       "    </tr>\n",
       "    <tr>\n",
       "      <th>5</th>\n",
       "      <td>por</td>\n",
       "      <td>por</td>\n",
       "    </tr>\n",
       "    <tr>\n",
       "      <th>6</th>\n",
       "      <td>dos</td>\n",
       "      <td>dos</td>\n",
       "    </tr>\n",
       "    <tr>\n",
       "      <th>7</th>\n",
       "      <td>como</td>\n",
       "      <td>como</td>\n",
       "    </tr>\n",
       "    <tr>\n",
       "      <th>8</th>\n",
       "      <td>mais</td>\n",
       "      <td>mais</td>\n",
       "    </tr>\n",
       "    <tr>\n",
       "      <th>9</th>\n",
       "      <td>foi</td>\n",
       "      <td>foi</td>\n",
       "    </tr>\n",
       "  </tbody>\n",
       "</table>\n",
       "</div>"
      ],
      "text/plain": [
       "   word norm_word\n",
       "0   que       que\n",
       "1  para      para\n",
       "2   com       com\n",
       "3   não       nao\n",
       "4   uma       uma\n",
       "5   por       por\n",
       "6   dos       dos\n",
       "7  como      como\n",
       "8  mais      mais\n",
       "9   foi       foi"
      ]
     },
     "execution_count": 4,
     "metadata": {},
     "output_type": "execute_result"
    }
   ],
   "source": [
    "#transformando o sjson em um df\n",
    "word_list = []\n",
    "normalized_word_list =[]\n",
    "\n",
    "for dic in words_file:\n",
    "    word_list.append(dic['word'])\n",
    "    normalized_word_list.append(dic['normalized'])\n",
    "    \n",
    "dic = {'word': word_list,\n",
    "      'norm_word': normalized_word_list}\n",
    "\n",
    "words_df = pd.DataFrame(dic, columns =['word', 'norm_word'])\n",
    "words_df.head(10)"
   ]
  },
  {
   "cell_type": "code",
   "execution_count": 5,
   "id": "5379854f",
   "metadata": {},
   "outputs": [],
   "source": [
    "def is_irregular(verbo):\n",
    "    #html com lista de verbos irregulares de https://www.conjugacao.com.br/verbos-irregulares/\n",
    "    irregular_verbs_html = '''<div class=\"wrapper\">\n",
    "        <ul><li><a href=\"/verbo-abster/\" title=\"Verbo abster\">abster</a></li><li><a href=\"/verbo-acudir/\" title=\"Verbo acudir\">acudir</a></li><li><a href=\"/verbo-adequar/\" title=\"Verbo adequar\">adequar</a></li><li><a href=\"/verbo-aderir/\" title=\"Verbo aderir\">aderir</a></li><li><a href=\"/verbo-adjazer/\" title=\"Verbo adjazer\">adjazer</a></li><li><a href=\"/verbo-advertir/\" title=\"Verbo advertir\">advertir</a></li><li><a href=\"/verbo-advir/\" title=\"Verbo advir\">advir</a></li><li><a href=\"/verbo-afazer/\" title=\"Verbo afazer\">afazer</a></li><li><a href=\"/verbo-aferir/\" title=\"Verbo aferir\">aferir</a></li><li><a href=\"/verbo-agredir/\" title=\"Verbo agredir\">agredir</a></li><li><a href=\"/verbo-ansiar/\" title=\"Verbo ansiar\">ansiar</a></li><li><a href=\"/verbo-antedar/\" title=\"Verbo antedar\">antedar</a></li><li><a href=\"/verbo-antepor/\" title=\"Verbo antepor\">antepor</a></li><li><a href=\"/verbo-antever/\" title=\"Verbo antever\">antever</a></li><li><a href=\"/verbo-apor/\" title=\"Verbo apor\">apor</a></li><li><a href=\"/verbo-aprazer/\" title=\"Verbo aprazer\">aprazer</a></li><li><a href=\"/verbo-apropinquar/\" title=\"Verbo apropinquar\">apropinquar</a></li><li><a href=\"/verbo-aspergir/\" title=\"Verbo aspergir\">aspergir</a></li><li><a href=\"/verbo-assentir/\" title=\"Verbo assentir\">assentir</a></li><li><a href=\"/verbo-ater/\" title=\"Verbo ater\">ater</a></li><li><a href=\"/verbo-atrair/\" title=\"Verbo atrair\">atrair</a></li><li><a href=\"/verbo-atribuir/\" title=\"Verbo atribuir\">atribuir</a></li><li><a href=\"/verbo-auferir/\" title=\"Verbo auferir\">auferir</a></li><li><a href=\"/verbo-autodestruir/\" title=\"Verbo autodestruir\">autodestruir</a></li><li><a href=\"/verbo-avir/\" title=\"Verbo avir\">avir</a></li><li><a href=\"/verbo-bem-dizer/\" title=\"Verbo bem-dizer\">bem-dizer</a></li><li><a href=\"/verbo-bem-fazer/\" title=\"Verbo bem-fazer\">bem-fazer</a></li><li><a href=\"/verbo-bem-querer/\" title=\"Verbo bem-querer\">bem-querer</a></li><li><a href=\"/verbo-bendizer/\" title=\"Verbo bendizer\">bendizer</a></li><li><a href=\"/verbo-benfazer/\" title=\"Verbo benfazer\">benfazer</a></li><li><a href=\"/verbo-benquerer/\" title=\"Verbo benquerer\">benquerer</a></li><li><a href=\"/verbo-buir/\" title=\"Verbo buir\">buir</a></li><li><a href=\"/verbo-bulir/\" title=\"Verbo bulir\">bulir</a></li><li><a href=\"/verbo-caber/\" title=\"Verbo caber\">caber</a></li><li><a href=\"/verbo-cair/\" title=\"Verbo cair\">cair</a></li><li><a href=\"/verbo-cerzir/\" title=\"Verbo cerzir\">cerzir</a></li><li><a href=\"/verbo-circumpor/\" title=\"Verbo circumpor\">circumpor</a></li><li><a href=\"/verbo-circunver/\" title=\"Verbo circunver\">circunver</a></li><li><a href=\"/verbo-cobrir/\" title=\"Verbo cobrir\">cobrir</a></li><li><a href=\"/verbo-compelir/\" title=\"Verbo compelir\">compelir</a></li><li><a href=\"/verbo-competir/\" title=\"Verbo competir\">competir</a></li><li><a href=\"/verbo-compor/\" title=\"Verbo compor\">compor</a></li><li><a href=\"/verbo-comprazer/\" title=\"Verbo comprazer\">comprazer</a></li><li><a href=\"/verbo-concernir/\" title=\"Verbo concernir\">concernir</a></li><li><a href=\"/verbo-concluir/\" title=\"Verbo concluir\">concluir</a></li><li><a href=\"/verbo-condizer/\" title=\"Verbo condizer\">condizer</a></li><li><a href=\"/verbo-conferir/\" title=\"Verbo conferir\">conferir</a></li><li><a href=\"/verbo-confugir/\" title=\"Verbo confugir\">confugir</a></li><li><a href=\"/verbo-conseguir/\" title=\"Verbo conseguir\">conseguir</a></li><li><a href=\"/verbo-consentir/\" title=\"Verbo consentir\">consentir</a></li><li><a href=\"/verbo-construir/\" title=\"Verbo construir\">construir</a></li><li><a href=\"/verbo-consumir/\" title=\"Verbo consumir\">consumir</a></li><li><a href=\"/verbo-conter/\" title=\"Verbo conter\">conter</a></li><li><a href=\"/verbo-contradizer/\" title=\"Verbo contradizer\">contradizer</a></li><li><a href=\"/verbo-contrafazer/\" title=\"Verbo contrafazer\">contrafazer</a></li><li><a href=\"/verbo-contrair/\" title=\"Verbo contrair\">contrair</a></li><li><a href=\"/verbo-contrapor/\" title=\"Verbo contrapor\">contrapor</a></li><li><a href=\"/verbo-contrapropor/\" title=\"Verbo contrapropor\">contrapropor</a></li><li><a href=\"/verbo-contravir/\" title=\"Verbo contravir\">contravir</a></li><li><a href=\"/verbo-convergir/\" title=\"Verbo convergir\">convergir</a></li><li><a href=\"/verbo-convir/\" title=\"Verbo convir\">convir</a></li><li><a href=\"/verbo-crer/\" title=\"Verbo crer\">crer</a></li><li><a href=\"/verbo-cuspir/\" title=\"Verbo cuspir\">cuspir</a></li><li><a href=\"/verbo-dar/\" title=\"Verbo dar\">dar</a></li><li><a href=\"/verbo-decompor/\" title=\"Verbo decompor\">decompor</a></li><li><a href=\"/verbo-deferir/\" title=\"Verbo deferir\">deferir</a></li><li><a href=\"/verbo-delinquir/\" title=\"Verbo delinquir\">delinquir</a></li><li><a href=\"/verbo-denegrir/\" title=\"Verbo denegrir\">denegrir</a></li><li><a href=\"/verbo-depor/\" title=\"Verbo depor\">depor</a></li><li><a href=\"/verbo-desafazer/\" title=\"Verbo desafazer\">desafazer</a></li><li><a href=\"/verbo-desaguar/\" title=\"Verbo desaguar\">desaguar</a></li><li><a href=\"/verbo-desapor/\" title=\"Verbo desapor\">desapor</a></li><li><a href=\"/verbo-desaprazer/\" title=\"Verbo desaprazer\">desaprazer</a></li><li><a href=\"/verbo-desavir/\" title=\"Verbo desavir\">desavir</a></li><li><a href=\"/verbo-descaber/\" title=\"Verbo descaber\">descaber</a></li><li><a href=\"/verbo-descobrir/\" title=\"Verbo descobrir\">descobrir</a></li><li><a href=\"/verbo-descompor/\" title=\"Verbo descompor\">descompor</a></li><li><a href=\"/verbo-descomprazer/\" title=\"Verbo descomprazer\">descomprazer</a></li><li><a href=\"/verbo-desconstruir/\" title=\"Verbo desconstruir\">desconstruir</a></li><li><a href=\"/verbo-desconvir/\" title=\"Verbo desconvir\">desconvir</a></li><li><a href=\"/verbo-descrer/\" title=\"Verbo descrer\">descrer</a></li><li><a href=\"/verbo-desdar/\" title=\"Verbo desdar\">desdar</a></li><li><a href=\"/verbo-desdizer/\" title=\"Verbo desdizer\">desdizer</a></li><li><a href=\"/verbo-desimpedir/\" title=\"Verbo desimpedir\">desimpedir</a></li><li><a href=\"/verbo-desimpor/\" title=\"Verbo desimpor\">desimpor</a></li><li><a href=\"/verbo-deslinguar/\" title=\"Verbo deslinguar\">deslinguar</a></li><li><a href=\"/verbo-desmedir/\" title=\"Verbo desmedir\">desmedir</a></li><li><a href=\"/verbo-desmentir/\" title=\"Verbo desmentir\">desmentir</a></li><li><a href=\"/verbo-desmobiliar/\" title=\"Verbo desmobiliar\">desmobiliar</a></li><li><a href=\"/verbo-despedir/\" title=\"Verbo despedir\">despedir</a></li><li><a href=\"/verbo-despir/\" title=\"Verbo despir\">despir</a></li><li><a href=\"/verbo-despolir/\" title=\"Verbo despolir\">despolir</a></li><li><a href=\"/verbo-despor/\" title=\"Verbo despor\">despor</a></li><li><a href=\"/verbo-desprazer/\" title=\"Verbo desprazer\">desprazer</a></li><li><a href=\"/verbo-desprecaver/\" title=\"Verbo desprecaver\">desprecaver</a></li><li><a href=\"/verbo-desprover/\" title=\"Verbo desprover\">desprover</a></li><li><a href=\"/verbo-desquerer/\" title=\"Verbo desquerer\">desquerer</a></li><li><a href=\"/verbo-dessaber/\" title=\"Verbo dessaber\">dessaber</a></li><li><a href=\"/verbo-destruir/\" title=\"Verbo destruir\">destruir</a></li><li><a href=\"/verbo-desvaler/\" title=\"Verbo desvaler\">desvaler</a></li><li><a href=\"/verbo-desver/\" title=\"Verbo desver\">desver</a></li><li><a href=\"/verbo-deter/\" title=\"Verbo deter\">deter</a></li><li><a href=\"/verbo-devir/\" title=\"Verbo devir\">devir</a></li><li><a href=\"/verbo-diferir/\" title=\"Verbo diferir\">diferir</a></li><li><a href=\"/verbo-digerir/\" title=\"Verbo digerir\">digerir</a></li><li><a href=\"/verbo-disferir/\" title=\"Verbo disferir\">disferir</a></li><li><a href=\"/verbo-disperder/\" title=\"Verbo disperder\">disperder</a></li><li><a href=\"/verbo-dispor/\" title=\"Verbo dispor\">dispor</a></li><li><a href=\"/verbo-distrair/\" title=\"Verbo distrair\">distrair</a></li><li><a href=\"/verbo-divergir/\" title=\"Verbo divergir\">divergir</a></li><li><a href=\"/verbo-divertir/\" title=\"Verbo divertir\">divertir</a></li><li><a href=\"/verbo-dizer/\" title=\"Verbo dizer\">dizer</a></li><li><a href=\"/verbo-dormir/\" title=\"Verbo dormir\">dormir</a></li><li><a href=\"/verbo-embair/\" title=\"Verbo embair\">embair</a></li><li><a href=\"/verbo-emergir/\" title=\"Verbo emergir\">emergir</a></li><li><a href=\"/verbo-encobrir/\" title=\"Verbo encobrir\">encobrir</a></li><li><a href=\"/verbo-engolir/\" title=\"Verbo engolir\">engolir</a></li><li><a href=\"/verbo-entredizer/\" title=\"Verbo entredizer\">entredizer</a></li><li><a href=\"/verbo-entrefazer/\" title=\"Verbo entrefazer\">entrefazer</a></li><li><a href=\"/verbo-entreouvir/\" title=\"Verbo entreouvir\">entreouvir</a></li><li><a href=\"/verbo-entrepor/\" title=\"Verbo entrepor\">entrepor</a></li><li><a href=\"/verbo-entrequerer/\" title=\"Verbo entrequerer\">entrequerer</a></li><li><a href=\"/verbo-entrever/\" title=\"Verbo entrever\">entrever</a></li><li><a href=\"/verbo-entrevir/\" title=\"Verbo entrevir\">entrevir</a></li><li><a href=\"/verbo-entupir/\" title=\"Verbo entupir\">entupir</a></li><li><a href=\"/verbo-enxaguar/\" title=\"Verbo enxaguar\">enxaguar</a></li><li><a href=\"/verbo-enxerir/\" title=\"Verbo enxerir\">enxerir</a></li><li><a href=\"/verbo-equivaler/\" title=\"Verbo equivaler\">equivaler</a></li><li><a href=\"/verbo-escapulir/\" title=\"Verbo escapulir\">escapulir</a></li><li><a href=\"/verbo-esfazer/\" title=\"Verbo esfazer\">esfazer</a></li><li><a href=\"/verbo-estar/\" title=\"Verbo estar\">estar</a></li><li><a href=\"/verbo-estrear/\" title=\"Verbo estrear\">estrear</a></li><li><a href=\"/verbo-esvair/\" title=\"Verbo esvair\">esvair</a></li><li><a href=\"/verbo-expedir/\" title=\"Verbo expedir\">expedir</a></li><li><a href=\"/verbo-expelir/\" title=\"Verbo expelir\">expelir</a></li><li><a href=\"/verbo-expor/\" title=\"Verbo expor\">expor</a></li><li><a href=\"/verbo-extrapor/\" title=\"Verbo extrapor\">extrapor</a></li><li><a href=\"/verbo-fazer/\" title=\"Verbo fazer\">fazer</a></li><li><a href=\"/verbo-ferir/\" title=\"Verbo ferir\">ferir</a></li><li><a href=\"/verbo-flectir/\" title=\"Verbo flectir\">flectir</a></li><li><a href=\"/verbo-fletir/\" title=\"Verbo fletir\">fletir</a></li><li><a href=\"/verbo-fotocompor/\" title=\"Verbo fotocompor\">fotocompor</a></li><li><a href=\"/verbo-fraguar/\" title=\"Verbo fraguar\">fraguar</a></li><li><a href=\"/verbo-frigir/\" title=\"Verbo frigir\">frigir</a></li><li><a href=\"/verbo-fugir/\" title=\"Verbo fugir\">fugir</a></li><li><a href=\"/verbo-gelifazer/\" title=\"Verbo gelifazer\">gelifazer</a></li><li><a href=\"/verbo-gerir/\" title=\"Verbo gerir\">gerir</a></li><li><a href=\"/verbo-haver/\" title=\"Verbo haver\">haver</a></li><li><a href=\"/verbo-idear/\" title=\"Verbo idear\">idear</a></li><li><a href=\"/verbo-imergir/\" title=\"Verbo imergir\">imergir</a></li><li><a href=\"/verbo-impedir/\" title=\"Verbo impedir\">impedir</a></li><li><a href=\"/verbo-impelir/\" title=\"Verbo impelir\">impelir</a></li><li><a href=\"/verbo-impor/\" title=\"Verbo impor\">impor</a></li><li><a href=\"/verbo-incendiar/\" title=\"Verbo incendiar\">incendiar</a></li><li><a href=\"/verbo-indeferir/\" title=\"Verbo indeferir\">indeferir</a></li><li><a href=\"/verbo-indispor/\" title=\"Verbo indispor\">indispor</a></li><li><a href=\"/verbo-inferir/\" title=\"Verbo inferir\">inferir</a></li><li><a href=\"/verbo-influir/\" title=\"Verbo influir\">influir</a></li><li><a href=\"/verbo-ingerir/\" title=\"Verbo ingerir\">ingerir</a></li><li><a href=\"/verbo-insatisfazer/\" title=\"Verbo insatisfazer\">insatisfazer</a></li><li><a href=\"/verbo-inserir/\" title=\"Verbo inserir\">inserir</a></li><li><a href=\"/verbo-interdizer/\" title=\"Verbo interdizer\">interdizer</a></li><li><a href=\"/verbo-intermediar/\" title=\"Verbo intermediar\">intermediar</a></li><li><a href=\"/verbo-interpor/\" title=\"Verbo interpor\">interpor</a></li><li><a href=\"/verbo-interver/\" title=\"Verbo interver\">interver</a></li><li><a href=\"/verbo-intervir/\" title=\"Verbo intervir\">intervir</a></li><li><a href=\"/verbo-investir/\" title=\"Verbo investir\">investir</a></li><li><a href=\"/verbo-ir/\" title=\"Verbo ir\">ir</a></li><li><a href=\"/verbo-jazer/\" title=\"Verbo jazer\">jazer</a></li><li><a href=\"/verbo-justapor/\" title=\"Verbo justapor\">justapor</a></li><li><a href=\"/verbo-ler/\" title=\"Verbo ler\">ler</a></li><li><a href=\"/verbo-liquefazer/\" title=\"Verbo liquefazer\">liquefazer</a></li><li><a href=\"/verbo-maisquerer/\" title=\"Verbo maisquerer\">maisquerer</a></li><li><a href=\"/verbo-maldispor/\" title=\"Verbo maldispor\">maldispor</a></li><li><a href=\"/verbo-maldizer/\" title=\"Verbo maldizer\">maldizer</a></li><li><a href=\"/verbo-malfazer/\" title=\"Verbo malfazer\">malfazer</a></li><li><a href=\"/verbo-malinguar/\" title=\"Verbo malinguar\">malinguar</a></li><li><a href=\"/verbo-malparir/\" title=\"Verbo malparir\">malparir</a></li><li><a href=\"/verbo-malquerer/\" title=\"Verbo malquerer\">malquerer</a></li><li><a href=\"/verbo-manter/\" title=\"Verbo manter\">manter</a></li><li><a href=\"/verbo-mediar/\" title=\"Verbo mediar\">mediar</a></li><li><a href=\"/verbo-medir/\" title=\"Verbo medir\">medir</a></li><li><a href=\"/verbo-mentir/\" title=\"Verbo mentir\">mentir</a></li><li><a href=\"/verbo-minguar/\" title=\"Verbo minguar\">minguar</a></li><li><a href=\"/verbo-obter/\" title=\"Verbo obter\">obter</a></li><li><a href=\"/verbo-obvir/\" title=\"Verbo obvir\">obvir</a></li><li><a href=\"/verbo-odiar/\" title=\"Verbo odiar\">odiar</a></li><li><a href=\"/verbo-opor/\" title=\"Verbo opor\">opor</a></li><li><a href=\"/verbo-ouvir/\" title=\"Verbo ouvir\">ouvir</a></li><li><a href=\"/verbo-parir/\" title=\"Verbo parir\">parir</a></li><li><a href=\"/verbo-pedir/\" title=\"Verbo pedir\">pedir</a></li><li><a href=\"/verbo-perder/\" title=\"Verbo perder\">perder</a></li><li><a href=\"/verbo-perfazer/\" title=\"Verbo perfazer\">perfazer</a></li><li><a href=\"/verbo-perseguir/\" title=\"Verbo perseguir\">perseguir</a></li><li><a href=\"/verbo-persentir/\" title=\"Verbo persentir\">persentir</a></li><li><a href=\"/verbo-pleitear/\" title=\"Verbo pleitear\">pleitear</a></li><li><a href=\"/verbo-poder/\" title=\"Verbo poder\">poder</a></li><li><a href=\"/verbo-poer/\" title=\"Verbo poer\">poer</a></li><li><a href=\"/verbo-polir/\" title=\"Verbo polir\">polir</a></li><li><a href=\"/verbo-pospor/\" title=\"Verbo pospor\">pospor</a></li><li><a href=\"/verbo-por/\" title=\"Verbo pôr\">pôr</a></li><li><a href=\"/verbo-prazer/\" title=\"Verbo prazer\">prazer</a></li><li><a href=\"/verbo-predispor/\" title=\"Verbo predispor\">predispor</a></li><li><a href=\"/verbo-predizer/\" title=\"Verbo predizer\">predizer</a></li><li><a href=\"/verbo-preferir/\" title=\"Verbo preferir\">preferir</a></li><li><a href=\"/verbo-prepor/\" title=\"Verbo prepor\">prepor</a></li><li><a href=\"/verbo-pressentir/\" title=\"Verbo pressentir\">pressentir</a></li><li><a href=\"/verbo-pressupor/\" title=\"Verbo pressupor\">pressupor</a></li><li><a href=\"/verbo-preterir/\" title=\"Verbo preterir\">preterir</a></li><li><a href=\"/verbo-prevenir/\" title=\"Verbo prevenir\">prevenir</a></li><li><a href=\"/verbo-prever/\" title=\"Verbo prever\">prever</a></li><li><a href=\"/verbo-proferir/\" title=\"Verbo proferir\">proferir</a></li><li><a href=\"/verbo-progredir/\" title=\"Verbo progredir\">progredir</a></li><li><a href=\"/verbo-propor/\" title=\"Verbo propor\">propor</a></li><li><a href=\"/verbo-prosseguir/\" title=\"Verbo prosseguir\">prosseguir</a></li><li><a href=\"/verbo-prossupor/\" title=\"Verbo prossupor\">prossupor</a></li><li><a href=\"/verbo-prover/\" title=\"Verbo prover\">prover</a></li><li><a href=\"/verbo-provir/\" title=\"Verbo provir\">provir</a></li><li><a href=\"/verbo-pruir/\" title=\"Verbo pruir\">pruir</a></li><li><a href=\"/verbo-puir/\" title=\"Verbo puir\">puir</a></li><li><a href=\"/verbo-putrefazer/\" title=\"Verbo putrefazer\">putrefazer</a></li><li><a href=\"/verbo-querer/\" title=\"Verbo querer\">querer</a></li><li><a href=\"/verbo-raer/\" title=\"Verbo raer\">raer</a></li><li><a href=\"/verbo-rarefazer/\" title=\"Verbo rarefazer\">rarefazer</a></li><li><a href=\"/verbo-readequar/\" title=\"Verbo readequar\">readequar</a></li><li><a href=\"/verbo-reaver/\" title=\"Verbo reaver\">reaver</a></li><li><a href=\"/verbo-reavir/\" title=\"Verbo reavir\">reavir</a></li><li><a href=\"/verbo-recobrir/\" title=\"Verbo recobrir\">recobrir</a></li><li><a href=\"/verbo-recompor/\" title=\"Verbo recompor\">recompor</a></li><li><a href=\"/verbo-reconvir/\" title=\"Verbo reconvir\">reconvir</a></li><li><a href=\"/verbo-redar/\" title=\"Verbo redar\">redar</a></li><li><a href=\"/verbo-redispor/\" title=\"Verbo redispor\">redispor</a></li><li><a href=\"/verbo-redizer/\" title=\"Verbo redizer\">redizer</a></li><li><a href=\"/verbo-reexpedir/\" title=\"Verbo reexpedir\">reexpedir</a></li><li><a href=\"/verbo-reexpor/\" title=\"Verbo reexpor\">reexpor</a></li><li><a href=\"/verbo-refazer/\" title=\"Verbo refazer\">refazer</a></li><li><a href=\"/verbo-referir/\" title=\"Verbo referir\">referir</a></li><li><a href=\"/verbo-refletir/\" title=\"Verbo refletir\">refletir</a></li><li><a href=\"/verbo-refugir/\" title=\"Verbo refugir\">refugir</a></li><li><a href=\"/verbo-regredir/\" title=\"Verbo regredir\">regredir</a></li><li><a href=\"/verbo-reimpor/\" title=\"Verbo reimpor\">reimpor</a></li><li><a href=\"/verbo-reindispor/\" title=\"Verbo reindispor\">reindispor</a></li><li><a href=\"/verbo-reinserir/\" title=\"Verbo reinserir\">reinserir</a></li><li><a href=\"/verbo-reler/\" title=\"Verbo reler\">reler</a></li><li><a href=\"/verbo-remediar/\" title=\"Verbo remediar\">remediar</a></li><li><a href=\"/verbo-remedir/\" title=\"Verbo remedir\">remedir</a></li><li><a href=\"/verbo-reobter/\" title=\"Verbo reobter\">reobter</a></li><li><a href=\"/verbo-reouvir/\" title=\"Verbo reouvir\">reouvir</a></li><li><a href=\"/verbo-repedir/\" title=\"Verbo repedir\">repedir</a></li><li><a href=\"/verbo-repelir/\" title=\"Verbo repelir\">repelir</a></li><li><a href=\"/verbo-repetir/\" title=\"Verbo repetir\">repetir</a></li><li><a href=\"/verbo-repor/\" title=\"Verbo repor\">repor</a></li><li><a href=\"/verbo-repropor/\" title=\"Verbo repropor\">repropor</a></li><li><a href=\"/verbo-requerer/\" title=\"Verbo requerer\">requerer</a></li><li><a href=\"/verbo-resfolegar/\" title=\"Verbo resfolegar\">resfolegar</a></li><li><a href=\"/verbo-ressentir/\" title=\"Verbo ressentir\">ressentir</a></li><li><a href=\"/verbo-reter/\" title=\"Verbo reter\">reter</a></li><li><a href=\"/verbo-retrair/\" title=\"Verbo retrair\">retrair</a></li><li><a href=\"/verbo-retranspor/\" title=\"Verbo retranspor\">retranspor</a></li><li><a href=\"/verbo-rever/\" title=\"Verbo rever\">rever</a></li><li><a href=\"/verbo-revestir/\" title=\"Verbo revestir\">revestir</a></li><li><a href=\"/verbo-revir/\" title=\"Verbo revir\">revir</a></li><li><a href=\"/verbo-rir/\" title=\"Verbo rir\">rir</a></li><li><a href=\"/verbo-ruir/\" title=\"Verbo ruir\">ruir</a></li><li><a href=\"/verbo-saber/\" title=\"Verbo saber\">saber</a></li><li><a href=\"/verbo-sacudir/\" title=\"Verbo sacudir\">sacudir</a></li><li><a href=\"/verbo-sair/\" title=\"Verbo sair\">sair</a></li><li><a href=\"/verbo-santiguar/\" title=\"Verbo santiguar\">santiguar</a></li><li><a href=\"/verbo-satisfazer/\" title=\"Verbo satisfazer\">satisfazer</a></li><li><a href=\"/verbo-seguir/\" title=\"Verbo seguir\">seguir</a></li><li><a href=\"/verbo-sentir/\" title=\"Verbo sentir\">sentir</a></li><li><a href=\"/verbo-ser/\" title=\"Verbo ser\">ser</a></li><li><a href=\"/verbo-servir/\" title=\"Verbo servir\">servir</a></li><li><a href=\"/verbo-sobpor/\" title=\"Verbo sobpor\">sobpor</a></li><li><a href=\"/verbo-sobre-expor/\" title=\"Verbo sobre-expor\">sobre-expor</a></li><li><a href=\"/verbo-sobreexpor/\" title=\"Verbo sobreexpor\">sobreexpor</a></li><li><a href=\"/verbo-sobrepor/\" title=\"Verbo sobrepor\">sobrepor</a></li><li><a href=\"/verbo-sobrestar/\" title=\"Verbo sobrestar\">sobrestar</a></li><li><a href=\"/verbo-sobrevir/\" title=\"Verbo sobrevir\">sobrevir</a></li><li><a href=\"/verbo-sorrir/\" title=\"Verbo sorrir\">sorrir</a></li><li><a href=\"/verbo-sortear/\" title=\"Verbo sortear\">sortear</a></li><li><a href=\"/verbo-sortir/\" title=\"Verbo sortir\">sortir</a></li><li><a href=\"/verbo-sotopor/\" title=\"Verbo sotopor\">sotopor</a></li><li><a href=\"/verbo-subir/\" title=\"Verbo subir\">subir</a></li><li><a href=\"/verbo-submergir/\" title=\"Verbo submergir\">submergir</a></li><li><a href=\"/verbo-subpor/\" title=\"Verbo subpor\">subpor</a></li><li><a href=\"/verbo-subsumir/\" title=\"Verbo subsumir\">subsumir</a></li><li><a href=\"/verbo-subtrair/\" title=\"Verbo subtrair\">subtrair</a></li><li><a href=\"/verbo-sugerir/\" title=\"Verbo sugerir\">sugerir</a></li><li><a href=\"/verbo-sumir/\" title=\"Verbo sumir\">sumir</a></li><li><a href=\"/verbo-superexpor/\" title=\"Verbo superexpor\">superexpor</a></li><li><a href=\"/verbo-superimpor/\" title=\"Verbo superimpor\">superimpor</a></li><li><a href=\"/verbo-superpor/\" title=\"Verbo superpor\">superpor</a></li><li><a href=\"/verbo-supor/\" title=\"Verbo supor\">supor</a></li><li><a href=\"/verbo-suster/\" title=\"Verbo suster\">suster</a></li><li><a href=\"/verbo-telever/\" title=\"Verbo telever\">telever</a></li><li><a href=\"/verbo-ter/\" title=\"Verbo ter\">ter</a></li><li><a href=\"/verbo-torrefazer/\" title=\"Verbo torrefazer\">torrefazer</a></li><li><a href=\"/verbo-tossir/\" title=\"Verbo tossir\">tossir</a></li><li><a href=\"/verbo-trair/\" title=\"Verbo trair\">trair</a></li><li><a href=\"/verbo-transfazer/\" title=\"Verbo transfazer\">transfazer</a></li><li><a href=\"/verbo-transferir/\" title=\"Verbo transferir\">transferir</a></li><li><a href=\"/verbo-transfugir/\" title=\"Verbo transfugir\">transfugir</a></li><li><a href=\"/verbo-transgredir/\" title=\"Verbo transgredir\">transgredir</a></li><li><a href=\"/verbo-transpor/\" title=\"Verbo transpor\">transpor</a></li><li><a href=\"/verbo-traspor/\" title=\"Verbo traspor\">traspor</a></li><li><a href=\"/verbo-trazer/\" title=\"Verbo trazer\">trazer</a></li><li><a href=\"/verbo-treler/\" title=\"Verbo treler\">treler</a></li><li><a href=\"/verbo-tresler/\" title=\"Verbo tresler\">tresler</a></li><li><a href=\"/verbo-trespor/\" title=\"Verbo trespor\">trespor</a></li><li><a href=\"/verbo-tumefazer/\" title=\"Verbo tumefazer\">tumefazer</a></li><li><a href=\"/verbo-valer/\" title=\"Verbo valer\">valer</a></li><li><a href=\"/verbo-ver/\" title=\"Verbo ver\">ver</a></li><li><a href=\"/verbo-vestir/\" title=\"Verbo vestir\">vestir</a></li><li><a href=\"/verbo-vir/\" title=\"Verbo vir\">vir</a></li>    </ul>\n",
    "    </div>'''\n",
    "\n",
    "    #extraindo a lista\n",
    "    from bs4 import BeautifulSoup as soup\n",
    "    _div = soup(irregular_verbs_html, 'html.parser').find('div', {'class':'wrapper'})\n",
    "    irregular_verbs = [[i.text for i in b.find_all('li')] for b in _div.find_all('ul')][0]\n",
    "    irregular_verbs.append('quer')\n",
    "    \n",
    "    \n",
    "    return verbo in irregular_verbs\n"
   ]
  },
  {
   "cell_type": "code",
   "execution_count": 6,
   "id": "95014178",
   "metadata": {},
   "outputs": [],
   "source": [
    "def verificar_ortografia(verbo):\n",
    "    '''retorna se o verbo  termina em 'ir' 'er' 'ar' \n",
    "        None caso nao se encaixar nas regras\n",
    "        '''    \n",
    "    if len(verbo) < 4:\n",
    "        return -1\n",
    "    \n",
    "    fim = verbo[-2:]\n",
    "    if fim in ['ir', 'ar', 'er']:\n",
    "        return fim\n",
    "    \n",
    "    return None"
   ]
  },
  {
   "cell_type": "code",
   "execution_count": 7,
   "id": "95d6df56",
   "metadata": {},
   "outputs": [],
   "source": [
    "def conjuga_indicativos(verbo):   \n",
    "    conjugacao = []\n",
    "    final = verificar_ortografia(verbo)   \n",
    "    rad = verbo[:-2]\n",
    "    \n",
    "    if (is_irregular(verbo)):\n",
    "        return conjugacao\n",
    "    \n",
    "   \n",
    "    if final == 'ar':\n",
    "        conjuga_ar = {\n",
    "            'ar_pres' : ['o', 'as', 'a', 'amos', 'ais', 'am'] ,\n",
    "            'ar_pret_perf' : ['ei', 'aste', 'ou', 'amos', 'aste', 'aram'],\n",
    "            'ar_pret_imp' : ['ava', 'avas', 'ava', 'ávamos', 'ávais','avam'],\n",
    "            'ar_mais_q_perf' : ['ara', 'aras', 'ara', 'áramos', 'áreis', 'aram'],\n",
    "            'ar_fut_pres' : ['arei', 'arás', 'ará', 'aremos', 'areis', 'arão'],\n",
    "            'ar_fut_pret' : ['aria', 'arias', 'aria', 'ariamos', 'arieis', 'ariam']\n",
    "            }\n",
    "        \n",
    "        for key in conjuga_ar:\n",
    "            for mode in conjuga_ar[key]:\n",
    "                conjugacao.append(rad + mode)\n",
    "                \n",
    "        return  conjugacao\n",
    "    \n",
    "    elif final == 'er':\n",
    "        conjuga_er = {\n",
    "            'er_pres': ['o', 'es', 'e', 'emos', 'eis', 'em'],\n",
    "            'er_pret_perf': ['i', 'este', 'eu', 'emos', 'estes', 'eram'],\n",
    "            'er_pret_imp': ['ia', 'ias', 'ia', 'iamos', 'ieis', 'iam'],\n",
    "            'er_mais_q_perf': ['era', 'eras', 'era', 'êramos', 'êreis', 'eram'],\n",
    "            'er_fut_pres': ['erei', 'erás', 'erá', 'eremos', 'ereis', 'erão'],\n",
    "            'er_fut_pret': ['eria', 'erias', 'eria', 'eriamos', 'erieis', 'eriam']\n",
    "                }\n",
    "        \n",
    "        for key in conjuga_er:\n",
    "            for mode in conjuga_er[key]:\n",
    "                conjugacao.append(rad + mode)\n",
    "        return conjugacao\n",
    "    \n",
    "    elif final == 'ir':\n",
    "        conjuga_ir = {\n",
    "            'ir_pres': ['o', 'es', 'e', 'imos', 'is', 'em'] ,\n",
    "            'ir_pret_perf': ['i', 'iste', 'iu', 'imos', 'istes', 'iram'],\n",
    "            'ir_pret_imp': ['ia', 'ias', 'ia', 'iamos', 'ieis', 'iam'],\n",
    "            'ir_mais_q_perf': ['ira', 'iras', 'ira', 'íramos', 'ireis', 'iram'],\n",
    "            'ir_fut_pres': ['irei', 'irás', 'irá', 'iremos', 'ireis', 'irão'],\n",
    "            'ir_fut_pret': ['iria', 'irias', 'iria', 'iriamos', 'irieis', 'iriam']  \n",
    "            }\n",
    "        \n",
    "        for key in conjuga_ir:\n",
    "            for mode in conjuga_ir[key]:\n",
    "                conjugacao.append(rad + mode)\n",
    "                \n",
    "        return conjugacao\n",
    "\n",
    "    return conjugacao"
   ]
  },
  {
   "cell_type": "code",
   "execution_count": 8,
   "id": "e561dc7e",
   "metadata": {},
   "outputs": [],
   "source": [
    "conj = conjuga_indicativos(verbo)"
   ]
  },
  {
   "cell_type": "markdown",
   "id": "e75bf788",
   "metadata": {},
   "source": [
    "# verificando se o verbo ja esta presente no df"
   ]
  },
  {
   "cell_type": "code",
   "execution_count": 9,
   "id": "41f05103",
   "metadata": {
    "scrolled": true
   },
   "outputs": [
    {
     "data": {
      "text/plain": [
       "[]"
      ]
     },
     "execution_count": 9,
     "metadata": {},
     "output_type": "execute_result"
    }
   ],
   "source": [
    "verbos_ja_existentes = words_df[words_df.word.isin(conj)].word.to_list()\n",
    "verbos_ja_existentes"
   ]
  },
  {
   "cell_type": "markdown",
   "id": "66bf43bc",
   "metadata": {},
   "source": [
    "## VALIDE ESTA SAIDA:"
   ]
  },
  {
   "cell_type": "code",
   "execution_count": 10,
   "id": "60ac6f9d",
   "metadata": {},
   "outputs": [
    {
     "data": {
      "text/plain": [
       "[]"
      ]
     },
     "execution_count": 10,
     "metadata": {},
     "output_type": "execute_result"
    }
   ],
   "source": [
    "verbos_a_inserir = [x for x in conj if x not in verbos_ja_existentes]\n",
    "verbos_a_inserir"
   ]
  },
  {
   "cell_type": "code",
   "execution_count": 11,
   "id": "e8ecd9ba",
   "metadata": {},
   "outputs": [],
   "source": [
    "conjugacoes_erradas = []"
   ]
  },
  {
   "cell_type": "code",
   "execution_count": 12,
   "id": "1f78d239",
   "metadata": {},
   "outputs": [],
   "source": [
    "verbos_a_inserir = [x for x in verbos_a_inserir if x not in conjugacoes_erradas]"
   ]
  },
  {
   "cell_type": "code",
   "execution_count": 13,
   "id": "4864c754",
   "metadata": {},
   "outputs": [
    {
     "data": {
      "text/plain": [
       "[]"
      ]
     },
     "execution_count": 13,
     "metadata": {},
     "output_type": "execute_result"
    }
   ],
   "source": [
    "verbos_a_inserir"
   ]
  },
  {
   "cell_type": "markdown",
   "id": "8fdc33b0",
   "metadata": {},
   "source": [
    "# Normalizando verbos a inserir"
   ]
  },
  {
   "cell_type": "code",
   "execution_count": 14,
   "id": "203a64e5",
   "metadata": {},
   "outputs": [],
   "source": [
    "import unicodedata\n",
    "import re\n",
    "import json\n",
    "\n",
    "\n",
    "def strip_accents(s):\n",
    "    return ''.join(c for c in unicodedata.normalize('NFD', s)\n",
    "                    if unicodedata.category(c) != 'Mn')\n",
    "\n",
    "norm_verbos_a_inserir = []\n",
    "for p in verbos_a_inserir:\n",
    "    norm_verbos_a_inserir.append(strip_accents(p))"
   ]
  },
  {
   "cell_type": "markdown",
   "id": "34f6bafd",
   "metadata": {},
   "source": [
    "# inserindo verbos no df oficial"
   ]
  },
  {
   "cell_type": "code",
   "execution_count": 15,
   "id": "0eb8f3cb",
   "metadata": {},
   "outputs": [],
   "source": [
    "df1 = pd.DataFrame(verbos_a_inserir, columns = ['word'])\n",
    "df2 = pd.DataFrame(norm_verbos_a_inserir, columns = ['norm_word'])\n",
    "df = pd.concat([df1, df2], axis=1)"
   ]
  },
  {
   "cell_type": "code",
   "execution_count": 16,
   "id": "a1c0d2cd",
   "metadata": {},
   "outputs": [],
   "source": [
    "new_word_df = pd.concat([words_df, df], ignore_index=True)"
   ]
  },
  {
   "cell_type": "code",
   "execution_count": 17,
   "id": "383dd6cf",
   "metadata": {},
   "outputs": [
    {
     "name": "stdout",
     "output_type": "stream",
     "text": [
      "verbo: dormir\n",
      "final: ir\n",
      "é irregular? True\n",
      "\n",
      "suas conjugações:\n",
      " []\n",
      "\n",
      "conjugacoes inseridas:\n",
      " []\n"
     ]
    }
   ],
   "source": [
    "print('verbo:', verbo)\n",
    "print('final:', verificar_ortografia(verbo))\n",
    "print('é irregular?', is_irregular(verbo))\n",
    "print('\\nsuas conjugações:\\n', conjuga_indicativos(verbo))\n",
    "print('\\nconjugacoes inseridas:\\n', verbos_a_inserir)"
   ]
  },
  {
   "cell_type": "markdown",
   "id": "229f08ee",
   "metadata": {},
   "source": [
    "# transforma em json para exportação"
   ]
  },
  {
   "cell_type": "code",
   "execution_count": null,
   "id": "3a304cb1",
   "metadata": {},
   "outputs": [],
   "source": [
    "import json\n",
    "i = 0\n",
    "dic_aux = {}\n",
    "list_aux = []\n",
    "\n",
    "for word, norm_word in zip(new_word_df['word'], new_word_df['norm_word']):\n",
    "    dic_aux = {\n",
    "        'id': i,\n",
    "        'word':word,\n",
    "        'normalized': norm_word\n",
    "    }    \n",
    "    list_aux.append(dic_aux)\n",
    "    i = i+1"
   ]
  },
  {
   "cell_type": "markdown",
   "id": "4b5b2597",
   "metadata": {},
   "source": [
    "# salvando o json"
   ]
  },
  {
   "cell_type": "code",
   "execution_count": null,
   "id": "da8ed26f",
   "metadata": {},
   "outputs": [],
   "source": [
    "#salvando o arquivo json\n",
    "#with open('Data/words.json', 'w') as f:\n",
    "#     json.dump(list_aux, f)"
   ]
  }
 ],
 "metadata": {
  "kernelspec": {
   "display_name": "Python 3 (ipykernel)",
   "language": "python",
   "name": "python3"
  },
  "language_info": {
   "codemirror_mode": {
    "name": "ipython",
    "version": 3
   },
   "file_extension": ".py",
   "mimetype": "text/x-python",
   "name": "python",
   "nbconvert_exporter": "python",
   "pygments_lexer": "ipython3",
   "version": "3.9.12"
  }
 },
 "nbformat": 4,
 "nbformat_minor": 5
}
